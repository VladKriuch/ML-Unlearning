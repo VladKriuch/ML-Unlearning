{
  "nbformat": 4,
  "nbformat_minor": 0,
  "metadata": {
    "colab": {
      "provenance": [],
      "gpuType": "T4"
    },
    "kernelspec": {
      "name": "python3",
      "display_name": "Python 3"
    },
    "language_info": {
      "name": "python"
    },
    "accelerator": "GPU"
  },
  "cells": [
    {
      "cell_type": "code",
      "execution_count": 23,
      "metadata": {
        "colab": {
          "base_uri": "https://localhost:8080/"
        },
        "id": "qrncm-2jJ9iI",
        "outputId": "63dd13a1-ba29-46fc-e35a-04030dd876bc"
      },
      "outputs": [
        {
          "output_type": "stream",
          "name": "stdout",
          "text": [
            "Running on device: CUDA\n"
          ]
        }
      ],
      "source": [
        "# Imports\n",
        "import os\n",
        "import requests\n",
        "import numpy as np\n",
        "import matplotlib.pyplot as plt\n",
        "from sklearn import linear_model, model_selection\n",
        "from tempfile import TemporaryDirectory\n",
        "import seaborn as sns\n",
        "import time\n",
        "import torch\n",
        "from torch import nn\n",
        "from torch import optim\n",
        "from torch.utils.data import DataLoader\n",
        "import torch.optim as optim\n",
        "from torch.optim import lr_scheduler\n",
        "\n",
        "import torchvision\n",
        "from torchvision import transforms\n",
        "from torchvision.utils import make_grid\n",
        "from torchvision.models import resnet18\n",
        "import numpy as np\n",
        "import pandas as pd\n",
        "DEVICE = \"cuda\" if torch.cuda.is_available() else \"cpu\"\n",
        "print(\"Running on device:\", DEVICE.upper())\n",
        "\n",
        "# manual random seed is used for dataset partitioning\n",
        "# to ensure reproducible results across runs\n",
        "RNG = torch.Generator().manual_seed(1991)\n",
        "torch.manual_seed(1991)\n",
        "torch.cuda.manual_seed(1991)\n",
        "\n",
        "import random\n",
        "random.seed(1991)\n",
        "\n",
        "import numpy as np\n",
        "np.random.seed(1991)"
      ]
    },
    {
      "cell_type": "code",
      "source": [
        "# CIFAR 10 dataset\n",
        "torch.manual_seed(1991)\n",
        "# Transformations\n",
        "normalize = transforms.Compose(\n",
        "    [\n",
        "        transforms.ToTensor(),\n",
        "        # transforms.Normalize((0.4914, 0.4822, 0.4465), (0.2023, 0.1994, 0.2010)),\n",
        "    ]\n",
        ")\n",
        "\n",
        "# Train data\n",
        "train_set = torchvision.datasets.CIFAR10(\n",
        "    root=\"./data\", train=True, download=True, transform=normalize\n",
        ")\n",
        "# Train loader\n",
        "train_loader = DataLoader(train_set, batch_size=256, shuffle=True, num_workers=2)\n",
        "\n",
        "# Test data\n",
        "test_set = torchvision.datasets.CIFAR10(\n",
        "    root=\"./data\", train=False, download=True, transform=normalize\n",
        ")\n",
        "# Test loader\n",
        "test_loader = DataLoader(test_set, batch_size=256, shuffle=True, num_workers=2)"
      ],
      "metadata": {
        "colab": {
          "base_uri": "https://localhost:8080/"
        },
        "id": "S49Q8pLCKBJv",
        "outputId": "977df4d2-477b-49ea-e70e-d8321234b37b"
      },
      "execution_count": 24,
      "outputs": [
        {
          "output_type": "stream",
          "name": "stdout",
          "text": [
            "Files already downloaded and verified\n",
            "Files already downloaded and verified\n"
          ]
        }
      ]
    },
    {
      "cell_type": "code",
      "source": [
        "# Add helping dicts\n",
        "dataloaders = {\n",
        "    \"train\": train_loader,\n",
        "    \"val\": test_loader\n",
        "}\n",
        "\n",
        "dataset_sizes = {\"train\": len(train_set), \"val\": len(test_set)}\n",
        "\n"
      ],
      "metadata": {
        "id": "za3FRrJoKKma"
      },
      "execution_count": 25,
      "outputs": []
    },
    {
      "cell_type": "code",
      "source": [
        "def train_model(model, criterion, optimizer, scheduler, num_epochs=25):\n",
        "    torch.manual_seed(1991)\n",
        "    since = time.time()\n",
        "\n",
        "    # Create a temporary directory to save training checkpoints\n",
        "    with TemporaryDirectory() as tempdir:\n",
        "        best_model_params_path = os.path.join(tempdir, 'best_model_params.pt')\n",
        "\n",
        "        torch.save(model.state_dict(), \"best_model_param.pt\")\n",
        "        best_loss = 1000\n",
        "\n",
        "        for epoch in range(num_epochs):\n",
        "            print(f'Epoch {epoch}/{num_epochs - 1}')\n",
        "            print('-' * 10)\n",
        "\n",
        "            # Each epoch has a training and validation phase\n",
        "            for phase in ['train', 'val']:\n",
        "                if phase == 'train':\n",
        "                    model.train()  # Set model to training mode\n",
        "                else:\n",
        "                    model.eval()   # Set model to evaluate mode\n",
        "\n",
        "                running_loss = 0.0\n",
        "                running_corrects = 0\n",
        "\n",
        "                # Iterate over data.\n",
        "                for inputs, labels in dataloaders[phase]:\n",
        "                    inputs = inputs.to(DEVICE)\n",
        "                    labels = labels.to(DEVICE)\n",
        "\n",
        "                    # zero the parameter gradients\n",
        "                    optimizer.zero_grad()\n",
        "\n",
        "                    # forward\n",
        "                    # track history if only in train\n",
        "                    with torch.set_grad_enabled(phase == 'train'):\n",
        "                        outputs = model(inputs)\n",
        "                        _, preds = torch.max(outputs, 1)\n",
        "                        loss = criterion(outputs, labels)\n",
        "\n",
        "                        # backward + optimize only if in training phase\n",
        "                        if phase == 'train':\n",
        "                            loss.backward()\n",
        "                            optimizer.step()\n",
        "\n",
        "                    # statistics\n",
        "                    running_loss += loss.item() * inputs.size(0)\n",
        "                    running_corrects += torch.sum(preds == labels.data)\n",
        "                if phase == 'train' and scheduler:\n",
        "                    scheduler.step()\n",
        "\n",
        "                epoch_loss = running_loss / dataset_sizes[phase]\n",
        "                epoch_acc = running_corrects.double() / dataset_sizes[phase]\n",
        "\n",
        "                print(f'{phase} Loss: {epoch_loss:.4f} Acc: {epoch_acc:.4f}')\n",
        "\n",
        "                # deep copy the model\n",
        "                if phase == 'val' and epoch_loss < best_loss:\n",
        "                    best_loss = epoch_loss\n",
        "                    torch.save(model.state_dict(), \"best_model_param.pt\")\n",
        "\n",
        "            print()\n",
        "\n",
        "        time_elapsed = time.time() - since\n",
        "        print(f'Training complete in {time_elapsed // 60:.0f}m {time_elapsed % 60:.0f}s')\n",
        "        print(f'Best val loss: {best_loss:4f}')\n",
        "\n",
        "        # load best model weights\n",
        "        model.load_state_dict(torch.load(\"best_model_param.pt\"))\n",
        "    return model\n"
      ],
      "metadata": {
        "id": "dG-iI6TAKPfa"
      },
      "execution_count": 26,
      "outputs": []
    },
    {
      "cell_type": "code",
      "source": [
        "# Train ResNet18\n",
        "torch.manual_seed(1991)\n",
        "model_train_reg = resnet18(weights=None, num_classes=10) # Load resnet18 from pytorch\n",
        "model_train_reg = model_train_reg.to(DEVICE)\n",
        "\n",
        "criterion = nn.CrossEntropyLoss()\n",
        "\n",
        "# Observe that all parameters are being optimized\n",
        "optimizer_ft = optim.Adam(model_train_reg.parameters(), lr=0.001, weight_decay=1e-4)\n",
        "\n",
        "# Decay LR by a factor of 0.001 every 7 epochs\n",
        "exp_lr_scheduler = lr_scheduler.StepLR(optimizer_ft, step_size=7, gamma=0.0005)"
      ],
      "metadata": {
        "id": "J85ls2DQKQbV"
      },
      "execution_count": 40,
      "outputs": []
    },
    {
      "cell_type": "code",
      "source": [
        "from collections import OrderedDict\n",
        "\n",
        "layer1 = model_train_reg.layer1\n",
        "\n",
        "for indx in range(len(layer1)):\n",
        "  modified_layers = OrderedDict()\n",
        "  for name, feature in layer1[indx].named_children():\n",
        "    modified_layers[name] = feature\n",
        "    if isinstance(feature, nn.ReLU):\n",
        "      modified_layers[\"dropout\"] = nn.Dropout(p=0.3)\n",
        "\n",
        "  model_train_reg.layer1[indx] = nn.Sequential(modified_layers)\n",
        "\n",
        "\n",
        "\n",
        "layer2 = model_train_reg.layer2\n",
        "\n",
        "for indx in [1]:\n",
        "  modified_layers = OrderedDict()\n",
        "  for name, feature in layer2[indx].named_children():\n",
        "    modified_layers[name] = feature\n",
        "    if isinstance(feature, nn.ReLU):\n",
        "      modified_layers[\"dropout\"] = nn.Dropout(p=0.3)\n",
        "\n",
        "  model_train_reg.layer2[indx] = nn.Sequential(modified_layers)\n",
        "\n",
        "layer3 = model_train_reg.layer3\n",
        "\n",
        "for indx in [1]:\n",
        "  modified_layers = OrderedDict()\n",
        "  for name, feature in layer3[indx].named_children():\n",
        "    modified_layers[name] = feature\n",
        "    if isinstance(feature, nn.ReLU):\n",
        "      modified_layers[\"dropout\"] = nn.Dropout(p=0.3)\n",
        "  model_train_reg.layer3[indx] = nn.Sequential(modified_layers)\n",
        "\n",
        "layer4 = model_train_reg.layer4\n",
        "\n",
        "for indx in [1]:\n",
        "  modified_layers = OrderedDict()\n",
        "  for name, feature in layer4[indx].named_children():\n",
        "    modified_layers[name] = feature\n",
        "    if isinstance(feature, nn.ReLU):\n",
        "      modified_layers[\"dropout\"] = nn.Dropout(p=0.3)\n",
        "\n",
        "  model_train_reg.layer4[indx] = nn.Sequential(modified_layers)"
      ],
      "metadata": {
        "id": "7TW01l2BKRmY"
      },
      "execution_count": 41,
      "outputs": []
    },
    {
      "cell_type": "code",
      "source": [
        "model_train_reg"
      ],
      "metadata": {
        "colab": {
          "base_uri": "https://localhost:8080/"
        },
        "id": "xmlnNwYnQR2d",
        "outputId": "4d4dfe66-7409-46e9-bf42-d646e2c19ea2"
      },
      "execution_count": 42,
      "outputs": [
        {
          "output_type": "execute_result",
          "data": {
            "text/plain": [
              "ResNet(\n",
              "  (conv1): Conv2d(3, 64, kernel_size=(7, 7), stride=(2, 2), padding=(3, 3), bias=False)\n",
              "  (bn1): BatchNorm2d(64, eps=1e-05, momentum=0.1, affine=True, track_running_stats=True)\n",
              "  (relu): ReLU(inplace=True)\n",
              "  (maxpool): MaxPool2d(kernel_size=3, stride=2, padding=1, dilation=1, ceil_mode=False)\n",
              "  (layer1): Sequential(\n",
              "    (0): Sequential(\n",
              "      (conv1): Conv2d(64, 64, kernel_size=(3, 3), stride=(1, 1), padding=(1, 1), bias=False)\n",
              "      (bn1): BatchNorm2d(64, eps=1e-05, momentum=0.1, affine=True, track_running_stats=True)\n",
              "      (relu): ReLU(inplace=True)\n",
              "      (dropout): Dropout(p=0.3, inplace=False)\n",
              "      (conv2): Conv2d(64, 64, kernel_size=(3, 3), stride=(1, 1), padding=(1, 1), bias=False)\n",
              "      (bn2): BatchNorm2d(64, eps=1e-05, momentum=0.1, affine=True, track_running_stats=True)\n",
              "    )\n",
              "    (1): Sequential(\n",
              "      (conv1): Conv2d(64, 64, kernel_size=(3, 3), stride=(1, 1), padding=(1, 1), bias=False)\n",
              "      (bn1): BatchNorm2d(64, eps=1e-05, momentum=0.1, affine=True, track_running_stats=True)\n",
              "      (relu): ReLU(inplace=True)\n",
              "      (dropout): Dropout(p=0.3, inplace=False)\n",
              "      (conv2): Conv2d(64, 64, kernel_size=(3, 3), stride=(1, 1), padding=(1, 1), bias=False)\n",
              "      (bn2): BatchNorm2d(64, eps=1e-05, momentum=0.1, affine=True, track_running_stats=True)\n",
              "    )\n",
              "  )\n",
              "  (layer2): Sequential(\n",
              "    (0): BasicBlock(\n",
              "      (conv1): Conv2d(64, 128, kernel_size=(3, 3), stride=(2, 2), padding=(1, 1), bias=False)\n",
              "      (bn1): BatchNorm2d(128, eps=1e-05, momentum=0.1, affine=True, track_running_stats=True)\n",
              "      (relu): ReLU(inplace=True)\n",
              "      (conv2): Conv2d(128, 128, kernel_size=(3, 3), stride=(1, 1), padding=(1, 1), bias=False)\n",
              "      (bn2): BatchNorm2d(128, eps=1e-05, momentum=0.1, affine=True, track_running_stats=True)\n",
              "      (downsample): Sequential(\n",
              "        (0): Conv2d(64, 128, kernel_size=(1, 1), stride=(2, 2), bias=False)\n",
              "        (1): BatchNorm2d(128, eps=1e-05, momentum=0.1, affine=True, track_running_stats=True)\n",
              "      )\n",
              "    )\n",
              "    (1): Sequential(\n",
              "      (conv1): Conv2d(128, 128, kernel_size=(3, 3), stride=(1, 1), padding=(1, 1), bias=False)\n",
              "      (bn1): BatchNorm2d(128, eps=1e-05, momentum=0.1, affine=True, track_running_stats=True)\n",
              "      (relu): ReLU(inplace=True)\n",
              "      (dropout): Dropout(p=0.3, inplace=False)\n",
              "      (conv2): Conv2d(128, 128, kernel_size=(3, 3), stride=(1, 1), padding=(1, 1), bias=False)\n",
              "      (bn2): BatchNorm2d(128, eps=1e-05, momentum=0.1, affine=True, track_running_stats=True)\n",
              "    )\n",
              "  )\n",
              "  (layer3): Sequential(\n",
              "    (0): BasicBlock(\n",
              "      (conv1): Conv2d(128, 256, kernel_size=(3, 3), stride=(2, 2), padding=(1, 1), bias=False)\n",
              "      (bn1): BatchNorm2d(256, eps=1e-05, momentum=0.1, affine=True, track_running_stats=True)\n",
              "      (relu): ReLU(inplace=True)\n",
              "      (conv2): Conv2d(256, 256, kernel_size=(3, 3), stride=(1, 1), padding=(1, 1), bias=False)\n",
              "      (bn2): BatchNorm2d(256, eps=1e-05, momentum=0.1, affine=True, track_running_stats=True)\n",
              "      (downsample): Sequential(\n",
              "        (0): Conv2d(128, 256, kernel_size=(1, 1), stride=(2, 2), bias=False)\n",
              "        (1): BatchNorm2d(256, eps=1e-05, momentum=0.1, affine=True, track_running_stats=True)\n",
              "      )\n",
              "    )\n",
              "    (1): Sequential(\n",
              "      (conv1): Conv2d(256, 256, kernel_size=(3, 3), stride=(1, 1), padding=(1, 1), bias=False)\n",
              "      (bn1): BatchNorm2d(256, eps=1e-05, momentum=0.1, affine=True, track_running_stats=True)\n",
              "      (relu): ReLU(inplace=True)\n",
              "      (dropout): Dropout(p=0.3, inplace=False)\n",
              "      (conv2): Conv2d(256, 256, kernel_size=(3, 3), stride=(1, 1), padding=(1, 1), bias=False)\n",
              "      (bn2): BatchNorm2d(256, eps=1e-05, momentum=0.1, affine=True, track_running_stats=True)\n",
              "    )\n",
              "  )\n",
              "  (layer4): Sequential(\n",
              "    (0): BasicBlock(\n",
              "      (conv1): Conv2d(256, 512, kernel_size=(3, 3), stride=(2, 2), padding=(1, 1), bias=False)\n",
              "      (bn1): BatchNorm2d(512, eps=1e-05, momentum=0.1, affine=True, track_running_stats=True)\n",
              "      (relu): ReLU(inplace=True)\n",
              "      (conv2): Conv2d(512, 512, kernel_size=(3, 3), stride=(1, 1), padding=(1, 1), bias=False)\n",
              "      (bn2): BatchNorm2d(512, eps=1e-05, momentum=0.1, affine=True, track_running_stats=True)\n",
              "      (downsample): Sequential(\n",
              "        (0): Conv2d(256, 512, kernel_size=(1, 1), stride=(2, 2), bias=False)\n",
              "        (1): BatchNorm2d(512, eps=1e-05, momentum=0.1, affine=True, track_running_stats=True)\n",
              "      )\n",
              "    )\n",
              "    (1): Sequential(\n",
              "      (conv1): Conv2d(512, 512, kernel_size=(3, 3), stride=(1, 1), padding=(1, 1), bias=False)\n",
              "      (bn1): BatchNorm2d(512, eps=1e-05, momentum=0.1, affine=True, track_running_stats=True)\n",
              "      (relu): ReLU(inplace=True)\n",
              "      (dropout): Dropout(p=0.3, inplace=False)\n",
              "      (conv2): Conv2d(512, 512, kernel_size=(3, 3), stride=(1, 1), padding=(1, 1), bias=False)\n",
              "      (bn2): BatchNorm2d(512, eps=1e-05, momentum=0.1, affine=True, track_running_stats=True)\n",
              "    )\n",
              "  )\n",
              "  (avgpool): AdaptiveAvgPool2d(output_size=(1, 1))\n",
              "  (fc): Linear(in_features=512, out_features=10, bias=True)\n",
              ")"
            ]
          },
          "metadata": {},
          "execution_count": 42
        }
      ]
    },
    {
      "cell_type": "code",
      "source": [
        "# Train model Resnet18 21 epochs\n",
        "model_train_reg = train_model(model_train_reg, criterion, optimizer_ft, exp_lr_scheduler,\n",
        "                       num_epochs=21)"
      ],
      "metadata": {
        "colab": {
          "base_uri": "https://localhost:8080/"
        },
        "id": "D8GoyAdaKSxt",
        "outputId": "a8f98078-c10c-4ba9-cab3-81a1c80f948b"
      },
      "execution_count": 43,
      "outputs": [
        {
          "output_type": "stream",
          "name": "stdout",
          "text": [
            "Epoch 0/20\n",
            "----------\n",
            "train Loss: 1.6770 Acc: 0.3788\n",
            "val Loss: 1.7382 Acc: 0.4151\n",
            "\n",
            "Epoch 1/20\n",
            "----------\n",
            "train Loss: 1.2869 Acc: 0.5349\n",
            "val Loss: 1.4515 Acc: 0.5036\n",
            "\n",
            "Epoch 2/20\n",
            "----------\n",
            "train Loss: 1.1253 Acc: 0.6010\n",
            "val Loss: 1.1330 Acc: 0.5996\n",
            "\n",
            "Epoch 3/20\n",
            "----------\n",
            "train Loss: 1.0048 Acc: 0.6472\n",
            "val Loss: 1.0985 Acc: 0.6200\n",
            "\n",
            "Epoch 4/20\n",
            "----------\n",
            "train Loss: 0.9320 Acc: 0.6718\n",
            "val Loss: 1.1611 Acc: 0.6055\n",
            "\n",
            "Epoch 5/20\n",
            "----------\n",
            "train Loss: 0.8685 Acc: 0.6979\n",
            "val Loss: 1.3091 Acc: 0.5950\n",
            "\n",
            "Epoch 6/20\n",
            "----------\n",
            "train Loss: 0.8254 Acc: 0.7138\n",
            "val Loss: 1.0948 Acc: 0.6441\n",
            "\n",
            "Epoch 7/20\n",
            "----------\n",
            "train Loss: 0.7500 Acc: 0.7387\n",
            "val Loss: 0.7740 Acc: 0.7328\n",
            "\n",
            "Epoch 8/20\n",
            "----------\n",
            "train Loss: 0.7386 Acc: 0.7420\n",
            "val Loss: 0.7661 Acc: 0.7367\n",
            "\n",
            "Epoch 9/20\n",
            "----------\n",
            "train Loss: 0.7321 Acc: 0.7456\n",
            "val Loss: 0.7596 Acc: 0.7379\n",
            "\n",
            "Epoch 10/20\n",
            "----------\n",
            "train Loss: 0.7240 Acc: 0.7485\n",
            "val Loss: 0.7512 Acc: 0.7399\n",
            "\n",
            "Epoch 11/20\n",
            "----------\n",
            "train Loss: 0.7151 Acc: 0.7517\n",
            "val Loss: 0.7488 Acc: 0.7414\n",
            "\n",
            "Epoch 12/20\n",
            "----------\n",
            "train Loss: 0.7144 Acc: 0.7524\n",
            "val Loss: 0.7423 Acc: 0.7441\n",
            "\n",
            "Epoch 13/20\n",
            "----------\n",
            "train Loss: 0.7074 Acc: 0.7546\n",
            "val Loss: 0.7422 Acc: 0.7403\n",
            "\n",
            "Epoch 14/20\n",
            "----------\n",
            "train Loss: 0.7082 Acc: 0.7545\n",
            "val Loss: 0.7409 Acc: 0.7443\n",
            "\n",
            "Epoch 15/20\n",
            "----------\n",
            "train Loss: 0.7029 Acc: 0.7587\n",
            "val Loss: 0.7420 Acc: 0.7450\n",
            "\n",
            "Epoch 16/20\n",
            "----------\n",
            "train Loss: 0.7050 Acc: 0.7567\n",
            "val Loss: 0.7422 Acc: 0.7446\n",
            "\n",
            "Epoch 17/20\n",
            "----------\n",
            "train Loss: 0.7049 Acc: 0.7563\n",
            "val Loss: 0.7397 Acc: 0.7435\n",
            "\n",
            "Epoch 18/20\n",
            "----------\n",
            "train Loss: 0.7061 Acc: 0.7551\n",
            "val Loss: 0.7400 Acc: 0.7454\n",
            "\n",
            "Epoch 19/20\n",
            "----------\n",
            "train Loss: 0.7070 Acc: 0.7532\n",
            "val Loss: 0.7401 Acc: 0.7439\n",
            "\n",
            "Epoch 20/20\n",
            "----------\n",
            "train Loss: 0.7046 Acc: 0.7562\n",
            "val Loss: 0.7420 Acc: 0.7427\n",
            "\n",
            "Training complete in 6m 27s\n",
            "Best val loss: 0.739708\n"
          ]
        }
      ]
    },
    {
      "cell_type": "code",
      "source": [
        "torch.save(model_train_reg.state_dict(), \"cifar10_resnet18_l2_dropout_regularization.pt\")"
      ],
      "metadata": {
        "id": "BIj3S2JrS3Jz"
      },
      "execution_count": 46,
      "outputs": []
    },
    {
      "cell_type": "code",
      "source": [
        "model_train_reg.eval()"
      ],
      "metadata": {
        "colab": {
          "base_uri": "https://localhost:8080/"
        },
        "id": "ytR1OdT5S3ML",
        "outputId": "c1939365-8a91-42c9-d0cd-f5895f459641"
      },
      "execution_count": 44,
      "outputs": [
        {
          "output_type": "execute_result",
          "data": {
            "text/plain": [
              "ResNet(\n",
              "  (conv1): Conv2d(3, 64, kernel_size=(7, 7), stride=(2, 2), padding=(3, 3), bias=False)\n",
              "  (bn1): BatchNorm2d(64, eps=1e-05, momentum=0.1, affine=True, track_running_stats=True)\n",
              "  (relu): ReLU(inplace=True)\n",
              "  (maxpool): MaxPool2d(kernel_size=3, stride=2, padding=1, dilation=1, ceil_mode=False)\n",
              "  (layer1): Sequential(\n",
              "    (0): Sequential(\n",
              "      (conv1): Conv2d(64, 64, kernel_size=(3, 3), stride=(1, 1), padding=(1, 1), bias=False)\n",
              "      (bn1): BatchNorm2d(64, eps=1e-05, momentum=0.1, affine=True, track_running_stats=True)\n",
              "      (relu): ReLU(inplace=True)\n",
              "      (dropout): Dropout(p=0.3, inplace=False)\n",
              "      (conv2): Conv2d(64, 64, kernel_size=(3, 3), stride=(1, 1), padding=(1, 1), bias=False)\n",
              "      (bn2): BatchNorm2d(64, eps=1e-05, momentum=0.1, affine=True, track_running_stats=True)\n",
              "    )\n",
              "    (1): Sequential(\n",
              "      (conv1): Conv2d(64, 64, kernel_size=(3, 3), stride=(1, 1), padding=(1, 1), bias=False)\n",
              "      (bn1): BatchNorm2d(64, eps=1e-05, momentum=0.1, affine=True, track_running_stats=True)\n",
              "      (relu): ReLU(inplace=True)\n",
              "      (dropout): Dropout(p=0.3, inplace=False)\n",
              "      (conv2): Conv2d(64, 64, kernel_size=(3, 3), stride=(1, 1), padding=(1, 1), bias=False)\n",
              "      (bn2): BatchNorm2d(64, eps=1e-05, momentum=0.1, affine=True, track_running_stats=True)\n",
              "    )\n",
              "  )\n",
              "  (layer2): Sequential(\n",
              "    (0): BasicBlock(\n",
              "      (conv1): Conv2d(64, 128, kernel_size=(3, 3), stride=(2, 2), padding=(1, 1), bias=False)\n",
              "      (bn1): BatchNorm2d(128, eps=1e-05, momentum=0.1, affine=True, track_running_stats=True)\n",
              "      (relu): ReLU(inplace=True)\n",
              "      (conv2): Conv2d(128, 128, kernel_size=(3, 3), stride=(1, 1), padding=(1, 1), bias=False)\n",
              "      (bn2): BatchNorm2d(128, eps=1e-05, momentum=0.1, affine=True, track_running_stats=True)\n",
              "      (downsample): Sequential(\n",
              "        (0): Conv2d(64, 128, kernel_size=(1, 1), stride=(2, 2), bias=False)\n",
              "        (1): BatchNorm2d(128, eps=1e-05, momentum=0.1, affine=True, track_running_stats=True)\n",
              "      )\n",
              "    )\n",
              "    (1): Sequential(\n",
              "      (conv1): Conv2d(128, 128, kernel_size=(3, 3), stride=(1, 1), padding=(1, 1), bias=False)\n",
              "      (bn1): BatchNorm2d(128, eps=1e-05, momentum=0.1, affine=True, track_running_stats=True)\n",
              "      (relu): ReLU(inplace=True)\n",
              "      (dropout): Dropout(p=0.3, inplace=False)\n",
              "      (conv2): Conv2d(128, 128, kernel_size=(3, 3), stride=(1, 1), padding=(1, 1), bias=False)\n",
              "      (bn2): BatchNorm2d(128, eps=1e-05, momentum=0.1, affine=True, track_running_stats=True)\n",
              "    )\n",
              "  )\n",
              "  (layer3): Sequential(\n",
              "    (0): BasicBlock(\n",
              "      (conv1): Conv2d(128, 256, kernel_size=(3, 3), stride=(2, 2), padding=(1, 1), bias=False)\n",
              "      (bn1): BatchNorm2d(256, eps=1e-05, momentum=0.1, affine=True, track_running_stats=True)\n",
              "      (relu): ReLU(inplace=True)\n",
              "      (conv2): Conv2d(256, 256, kernel_size=(3, 3), stride=(1, 1), padding=(1, 1), bias=False)\n",
              "      (bn2): BatchNorm2d(256, eps=1e-05, momentum=0.1, affine=True, track_running_stats=True)\n",
              "      (downsample): Sequential(\n",
              "        (0): Conv2d(128, 256, kernel_size=(1, 1), stride=(2, 2), bias=False)\n",
              "        (1): BatchNorm2d(256, eps=1e-05, momentum=0.1, affine=True, track_running_stats=True)\n",
              "      )\n",
              "    )\n",
              "    (1): Sequential(\n",
              "      (conv1): Conv2d(256, 256, kernel_size=(3, 3), stride=(1, 1), padding=(1, 1), bias=False)\n",
              "      (bn1): BatchNorm2d(256, eps=1e-05, momentum=0.1, affine=True, track_running_stats=True)\n",
              "      (relu): ReLU(inplace=True)\n",
              "      (dropout): Dropout(p=0.3, inplace=False)\n",
              "      (conv2): Conv2d(256, 256, kernel_size=(3, 3), stride=(1, 1), padding=(1, 1), bias=False)\n",
              "      (bn2): BatchNorm2d(256, eps=1e-05, momentum=0.1, affine=True, track_running_stats=True)\n",
              "    )\n",
              "  )\n",
              "  (layer4): Sequential(\n",
              "    (0): BasicBlock(\n",
              "      (conv1): Conv2d(256, 512, kernel_size=(3, 3), stride=(2, 2), padding=(1, 1), bias=False)\n",
              "      (bn1): BatchNorm2d(512, eps=1e-05, momentum=0.1, affine=True, track_running_stats=True)\n",
              "      (relu): ReLU(inplace=True)\n",
              "      (conv2): Conv2d(512, 512, kernel_size=(3, 3), stride=(1, 1), padding=(1, 1), bias=False)\n",
              "      (bn2): BatchNorm2d(512, eps=1e-05, momentum=0.1, affine=True, track_running_stats=True)\n",
              "      (downsample): Sequential(\n",
              "        (0): Conv2d(256, 512, kernel_size=(1, 1), stride=(2, 2), bias=False)\n",
              "        (1): BatchNorm2d(512, eps=1e-05, momentum=0.1, affine=True, track_running_stats=True)\n",
              "      )\n",
              "    )\n",
              "    (1): Sequential(\n",
              "      (conv1): Conv2d(512, 512, kernel_size=(3, 3), stride=(1, 1), padding=(1, 1), bias=False)\n",
              "      (bn1): BatchNorm2d(512, eps=1e-05, momentum=0.1, affine=True, track_running_stats=True)\n",
              "      (relu): ReLU(inplace=True)\n",
              "      (dropout): Dropout(p=0.3, inplace=False)\n",
              "      (conv2): Conv2d(512, 512, kernel_size=(3, 3), stride=(1, 1), padding=(1, 1), bias=False)\n",
              "      (bn2): BatchNorm2d(512, eps=1e-05, momentum=0.1, affine=True, track_running_stats=True)\n",
              "    )\n",
              "  )\n",
              "  (avgpool): AdaptiveAvgPool2d(output_size=(1, 1))\n",
              "  (fc): Linear(in_features=512, out_features=10, bias=True)\n",
              ")"
            ]
          },
          "metadata": {},
          "execution_count": 44
        }
      ]
    },
    {
      "cell_type": "code",
      "source": [
        "\n",
        "# Check accuracy\n",
        "\n",
        "def accuracy(net, loader):\n",
        "    \"\"\"Return accuracy on a dataset given by the data loader.\"\"\"\n",
        "    correct = 0\n",
        "    total = 0\n",
        "    for i, (inputs, targets) in enumerate(loader, 0):\n",
        "        inputs, targets = inputs.to(DEVICE), targets.to(DEVICE)\n",
        "        outputs = net(inputs)\n",
        "        _, predicted = outputs.max(1)\n",
        "        total += targets.size(0)\n",
        "        correct += predicted.eq(targets).sum().item()\n",
        "    return correct / total\n",
        "\n",
        "\n",
        "print(f\"Train set accuracy: {100.0 * accuracy(model_train_reg, train_loader):0.1f}%\")\n",
        "print(f\"Test set accuracy: {100.0 * accuracy(model_train_reg, test_loader):0.1f}%\")"
      ],
      "metadata": {
        "colab": {
          "base_uri": "https://localhost:8080/"
        },
        "id": "a-cypMFpS3Og",
        "outputId": "4f19c194-ed4e-4c68-9ee2-ba3417714d7a"
      },
      "execution_count": 45,
      "outputs": [
        {
          "output_type": "stream",
          "name": "stdout",
          "text": [
            "Train set accuracy: 79.1%\n",
            "Test set accuracy: 74.4%\n"
          ]
        }
      ]
    },
    {
      "cell_type": "code",
      "source": [
        "\n",
        "df_dict = {\n",
        "    \"label\": [],\n",
        "    \"last_conv_layer\": [],\n",
        "    \"train\": [],\n",
        "    \"loss\": []\n",
        "}"
      ],
      "metadata": {
        "id": "79kPhOJpS3Qn"
      },
      "execution_count": 47,
      "outputs": []
    },
    {
      "cell_type": "code",
      "source": [
        "total_num = 0\n",
        "criterion = nn.CrossEntropyLoss(reduction=\"none\")\n",
        "for i, batch in enumerate(train_loader, 0):\n",
        "  images, labels = batch\n",
        "  images = images.to(DEVICE)\n",
        "  for image, label in zip(images, labels):\n",
        "    logits = model_train_reg(image.unsqueeze(0))\n",
        "    total_num += 1\n",
        "    losses = criterion(logits, label.unsqueeze(0).to(DEVICE)).numpy(force=True)\n",
        "\n",
        "    df_dict[\"loss\"].append(losses[0])\n",
        "    df_dict[\"label\"].append(label)\n",
        "    df_dict[\"train\"].append(\"Тренувальний набір\")\n",
        "    if total_num >= 10000:\n",
        "      break\n",
        "  if total_num >= 10000:\n",
        "    break"
      ],
      "metadata": {
        "id": "oLg0iUSLS3TA"
      },
      "execution_count": 48,
      "outputs": []
    },
    {
      "cell_type": "code",
      "source": [
        "\n",
        "total_num = 0\n",
        "for i, batch in enumerate(test_loader, 0):\n",
        "  images, labels = batch\n",
        "  images = images.to(DEVICE)\n",
        "  for image, label in zip(images, labels):\n",
        "    logits = model_train_reg(image.unsqueeze(0))\n",
        "    total_num += 1\n",
        "    losses = criterion(logits, label.unsqueeze(0).to(DEVICE)).numpy(force=True)\n",
        "\n",
        "    df_dict[\"loss\"].append(losses[0])\n",
        "    df_dict[\"label\"].append(label)\n",
        "    df_dict[\"train\"].append(\"Тестовий набір\")"
      ],
      "metadata": {
        "id": "Idqo8q0sS3VH"
      },
      "execution_count": 49,
      "outputs": []
    },
    {
      "cell_type": "code",
      "source": [
        "df = pd.DataFrame.from_dict({\n",
        "    \"train\": df_dict[\"train\"],\n",
        "    \"loss\": df_dict[\"loss\"]\n",
        "})\n"
      ],
      "metadata": {
        "id": "PA-KzZxpS3Xb"
      },
      "execution_count": 50,
      "outputs": []
    },
    {
      "cell_type": "code",
      "source": [
        "plt.title(f\"Resnet18 CIFAR10 Generalized dataset losses\")\n",
        "plt.hist(df.loc[df[\"train\"] == \"Тренувальний набір\"][\"loss\"], density=True, alpha=0.5, bins=15, label=\"Тренувальний набір\")\n",
        "plt.hist(df.loc[df[\"train\"] == \"Тестовий набір\"][\"loss\"], density=True, alpha=0.5, bins=15, label=\"Тестовий набір\")\n",
        "\n",
        "plt.ylabel(\"Частота\")\n",
        "plt.xlabel(\"Функція втрат\")\n",
        "plt.legend(frameon=False, fontsize=14)\n",
        "plt.show()"
      ],
      "metadata": {
        "colab": {
          "base_uri": "https://localhost:8080/",
          "height": 472
        },
        "id": "Z1SILNJSS3Zm",
        "outputId": "0f75b08c-6777-4cae-f69b-919d3b6c37b5"
      },
      "execution_count": 51,
      "outputs": [
        {
          "output_type": "display_data",
          "data": {
            "text/plain": [
              "<Figure size 640x480 with 1 Axes>"
            ],
            "image/png": "[encoded data removed]"
          },
          "metadata": {}
        }
      ]
    },
    {
      "cell_type": "code",
      "source": [
        "plt.plot(df.loc[df[\"train\"] == \"Тренувальний набір\"][\"loss\"], label=\"Тренувальний набір\")\n",
        "plt.plot(df.loc[df[\"train\"] == \"Тестовий набір\"][\"loss\"], label=\"Тестовий набір\")\n",
        "\n",
        "plt.ylabel(\"Функція втрат\")\n",
        "plt.xlabel(\"Номер зображення\")\n",
        "plt.legend(frameon=False, fontsize=14)\n",
        "plt.show()\n"
      ],
      "metadata": {
        "colab": {
          "base_uri": "https://localhost:8080/",
          "height": 449
        },
        "id": "CN03IgZxS3cH",
        "outputId": "2478d418-3e76-4d63-d4ec-3e268a661b72"
      },
      "execution_count": 52,
      "outputs": [
        {
          "output_type": "display_data",
          "data": {
            "text/plain": [
              "<Figure size 640x480 with 1 Axes>"
            ],
            "image/png": "[encoded data removed]"
          },
          "metadata": {}
        }
      ]
    },
    {
      "cell_type": "code",
      "source": [],
      "metadata": {
        "id": "dCtT6sKNS3fi"
      },
      "execution_count": null,
      "outputs": []
    },
    {
      "cell_type": "code",
      "source": [
        "activation = {}\n",
        "def get_activation(name):\n",
        "    def hook(model, input, output):\n",
        "        activation[name] = output.detach()\n",
        "    return hook"
      ],
      "metadata": {
        "id": "LDPuOetYKVlQ"
      },
      "execution_count": 18,
      "outputs": []
    },
    {
      "cell_type": "code",
      "source": [
        "# model_train_reg = model_train_reg.to(DEVICE)\n",
        "# model_train_reg = model_train_reg.eval()\n",
        "torch.save(model_train_reg.state_dict(), \"new.pt\")\n",
        "\n",
        "model = resnet18(weights=None, num_classes=10) # Load resnet18 from pytorch\n",
        "model = model.to(DEVICE)\n",
        "\n",
        "optimizer_ft = optim.Adam(model.parameters(), lr=0.001, weight_decay=1e-5)\n",
        "# model.eval()\n",
        "model.load_state_dict(torch.load(\"new.pt\", map_location=DEVICE), strict=True)\n",
        "# model_BETA = model.to(DEVICE)\n",
        "\n",
        "# model_train_reg = model_train_reg.to(\"cpu\")\n",
        "\n",
        "model.conv1.register_forward_hook(get_activation('c11'))\n",
        "model_train_reg.conv1.register_forward_hook(get_activation('c12'))\n",
        "\n",
        "model.bn1.register_forward_hook(get_activation('bn1_1'))\n",
        "model_train_reg.bn1.register_forward_hook(get_activation('bn1_2'))\n",
        "\n",
        "model.relu.register_forward_hook(get_activation('relu1'))\n",
        "model_train_reg.relu.register_forward_hook(get_activation('relu2'))\n",
        "\n",
        "\n",
        "model.maxpool.register_forward_hook(get_activation('maxpool1'))\n",
        "model_train_reg.maxpool.register_forward_hook(get_activation('maxpool2'))\n",
        "\n",
        "# model.layer1[0].conv1.register_forward_hook(get_activation('layer11'))\n",
        "# model_train_reg.layer1[0].conv1.register_forward_hook(get_activation('layer12'))\n",
        "\n",
        "model.layer1[0].conv1.register_forward_hook(get_activation('layer11c'))\n",
        "model_train_reg.layer1[0].conv1.register_forward_hook(get_activation('layer12c'))\n",
        "\n",
        "model.layer1[0].bn1.register_forward_hook(get_activation('layer11bn1'))\n",
        "model_train_reg.layer1[0].bn1.register_forward_hook(get_activation('layer12bn1'))\n",
        "\n",
        "model.layer1[0].relu.register_forward_hook(get_activation('layer11relu1'))\n",
        "model_train_reg.layer1[0].relu.register_forward_hook(get_activation('layer12relu1'))\n",
        "\n",
        "\n",
        "model.eval()\n",
        "model_train_reg.eval()\n",
        "\n",
        "with torch.no_grad():\n",
        "  for i, (inputs, targets) in enumerate(train_loader, 0):\n",
        "    inputs = inputs.to(DEVICE)\n",
        "    outputs1 = model_train_reg(inputs[0].unsqueeze(0))\n",
        "    outputs2 = model(inputs[0].unsqueeze(0))\n",
        "    print(outputs1[0])\n",
        "    print(outputs2[0])\n",
        "    break\n",
        "\n",
        "\n",
        "(activation['layer12relu1'] == activation['layer11relu1']).all()"
      ],
      "metadata": {
        "colab": {
          "base_uri": "https://localhost:8080/"
        },
        "id": "KiXx9liqNeRo",
        "outputId": "2d62ac44-8485-40bc-9a6d-66a694c49ee2"
      },
      "execution_count": 22,
      "outputs": [
        {
          "output_type": "stream",
          "name": "stdout",
          "text": [
            "tensor([-2.0903, -0.0847, -1.3792, -1.1936,  1.9133,  2.7130, -1.4941, 11.3645,\n",
            "        -4.7467, -1.8557], device='cuda:0')\n",
            "tensor([-0.0757, -0.5074, -0.6683,  1.8993, -0.9555,  1.2442, -1.2682,  2.2061,\n",
            "        -1.1451, -0.6048], device='cuda:0')\n"
          ]
        },
        {
          "output_type": "execute_result",
          "data": {
            "text/plain": [
              "tensor(False, device='cuda:0')"
            ]
          },
          "metadata": {},
          "execution_count": 22
        }
      ]
    },
    {
      "cell_type": "code",
      "source": [
        "ac1 = activation['layer12relu1']"
      ],
      "metadata": {
        "id": "97xS6pyZNvPD"
      },
      "execution_count": 12,
      "outputs": []
    },
    {
      "cell_type": "code",
      "source": [],
      "metadata": {
        "id": "5jmg0180N3vB"
      },
      "execution_count": null,
      "outputs": []
    }
  ]
}