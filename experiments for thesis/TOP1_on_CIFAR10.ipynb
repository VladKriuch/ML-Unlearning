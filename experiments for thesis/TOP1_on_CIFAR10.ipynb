{
  "nbformat": 4,
  "nbformat_minor": 0,
  "metadata": {
    "colab": {
      "provenance": [],
      "gpuType": "T4"
    },
    "kernelspec": {
      "name": "python3",
      "display_name": "Python 3"
    },
    "language_info": {
      "name": "python"
    },
    "accelerator": "GPU"
  },
  "cells": [
    {
      "cell_type": "code",
      "execution_count": 1,
      "metadata": {
        "colab": {
          "base_uri": "https://localhost:8080/"
        },
        "id": "KZ3X0yMFxZh4",
        "outputId": "b63186a0-267b-433c-d06e-04e44c9a67ae"
      },
      "outputs": [
        {
          "output_type": "stream",
          "name": "stdout",
          "text": [
            "Running on device: CUDA\n"
          ]
        }
      ],
      "source": [
        "\n",
        "# Imports\n",
        "import os\n",
        "import requests\n",
        "import numpy as np\n",
        "import matplotlib.pyplot as plt\n",
        "from sklearn import linear_model, model_selection\n",
        "from tempfile import TemporaryDirectory\n",
        "\n",
        "import time\n",
        "import torch\n",
        "from torch import nn\n",
        "from torch import optim\n",
        "from torch.utils.data import DataLoader\n",
        "import torch.optim as optim\n",
        "from torch.optim import lr_scheduler\n",
        "\n",
        "import torchvision\n",
        "from torchvision import transforms\n",
        "from torchvision.utils import make_grid\n",
        "from torchvision.models import resnet18\n",
        "import numpy as np\n",
        "DEVICE = \"cuda\" if torch.cuda.is_available() else \"cpu\"\n",
        "print(\"Running on device:\", DEVICE.upper())\n",
        "\n",
        "# manual random seed is used for dataset partitioning\n",
        "# to ensure reproducible results across runs\n",
        "RNG = torch.Generator().manual_seed(42)"
      ]
    },
    {
      "cell_type": "code",
      "source": [
        "# CIFAR 10 dataset\n",
        "\n",
        "# Transformations\n",
        "normalize = transforms.Compose(\n",
        "    [\n",
        "        transforms.ToTensor(),\n",
        "        transforms.Normalize((0.4914, 0.4822, 0.4465), (0.2023, 0.1994, 0.2010)),\n",
        "    ]\n",
        ")\n",
        "\n",
        "# Train data\n",
        "train_set = torchvision.datasets.CIFAR10(\n",
        "    root=\"./data\", train=True, download=True, transform=normalize\n",
        ")\n",
        "# Train loader\n",
        "train_loader = DataLoader(train_set, batch_size=256, shuffle=True, num_workers=2)\n",
        "\n",
        "# Test data\n",
        "test_set = torchvision.datasets.CIFAR10(\n",
        "    root=\"./data\", train=False, download=True, transform=normalize\n",
        ")\n",
        "# Test loader\n",
        "test_loader = DataLoader(test_set, batch_size=256, shuffle=True, num_workers=2)"
      ],
      "metadata": {
        "colab": {
          "base_uri": "https://localhost:8080/"
        },
        "id": "LHs32YODxsE2",
        "outputId": "a3ea40f0-9d58-45ec-8fbc-0c67c7a9c975"
      },
      "execution_count": 2,
      "outputs": [
        {
          "output_type": "stream",
          "name": "stdout",
          "text": [
            "Downloading https://www.cs.toronto.edu/~kriz/cifar-10-python.tar.gz to ./data/cifar-10-python.tar.gz\n"
          ]
        },
        {
          "output_type": "stream",
          "name": "stderr",
          "text": [
            "100%|██████████| 170498071/170498071 [00:03<00:00, 49219286.19it/s]\n"
          ]
        },
        {
          "output_type": "stream",
          "name": "stdout",
          "text": [
            "Extracting ./data/cifar-10-python.tar.gz to ./data\n",
            "Files already downloaded and verified\n"
          ]
        }
      ]
    },
    {
      "cell_type": "code",
      "source": [
        "# Choose random forget indecies from some class\n",
        "# Index of class\n",
        "class_index = 1 # cars\n",
        "class_set = np.where(np.array(train_set.targets) == 1)[0]\n",
        "\n",
        "# Percantage of whole data ( from class )\n",
        "amount = 0.01 # 1 %\n",
        "amount_int = class_set.shape[0] * amount\n",
        "\n",
        "# Get indeces\n",
        "forget_idx = np.random.choice(class_set, int(amount_int))\n",
        "\n",
        "# construct indices of retain from those of the forget set\n",
        "forget_mask = np.zeros(len(train_set.targets), dtype=bool)\n",
        "forget_mask[forget_idx] = True\n",
        "retain_idx = np.arange(forget_mask.size)[~forget_mask]\n",
        "\n",
        "# split train set into a forget and a retain set\n",
        "forget_set = torch.utils.data.Subset(train_set, forget_idx)\n",
        "retain_set = torch.utils.data.Subset(train_set, retain_idx)\n",
        "\n",
        "# Generate forget and retain loaders\n",
        "forget_loader = torch.utils.data.DataLoader(\n",
        "    forget_set, batch_size=256, shuffle=True, num_workers=2, generator=RNG\n",
        ")\n",
        "retain_loader = torch.utils.data.DataLoader(\n",
        "    retain_set, batch_size=256, shuffle=True, num_workers=2, generator=RNG\n",
        ")"
      ],
      "metadata": {
        "id": "MuxSsnuaxuwo"
      },
      "execution_count": 3,
      "outputs": []
    },
    {
      "cell_type": "code",
      "source": [
        "\n",
        "# Add helping dicts\n",
        "\n",
        "\n",
        "dataloaders = {\n",
        "    \"train\": train_loader,\n",
        "    \"val\": test_loader\n",
        "}\n",
        "\n",
        "dataset_sizes = {\"train\": len(train_set), \"val\": len(test_set)}"
      ],
      "metadata": {
        "id": "7D0yRMAYxyGA"
      },
      "execution_count": 4,
      "outputs": []
    },
    {
      "cell_type": "code",
      "source": [
        "def train_model(model, criterion, optimizer, scheduler, num_epochs=25):\n",
        "    since = time.time()\n",
        "\n",
        "    # Create a temporary directory to save training checkpoints\n",
        "    with TemporaryDirectory() as tempdir:\n",
        "        best_model_params_path = os.path.join(tempdir, 'best_model_params.pt')\n",
        "\n",
        "        torch.save(model.state_dict(), best_model_params_path)\n",
        "        best_acc = 0.0\n",
        "\n",
        "        for epoch in range(num_epochs):\n",
        "            print(f'Epoch {epoch}/{num_epochs - 1}')\n",
        "            print('-' * 10)\n",
        "\n",
        "            # Each epoch has a training and validation phase\n",
        "            for phase in ['train', 'val']:\n",
        "                if phase == 'train':\n",
        "                    model.train()  # Set model to training mode\n",
        "                else:\n",
        "                    model.eval()   # Set model to evaluate mode\n",
        "\n",
        "                running_loss = 0.0\n",
        "                running_corrects = 0\n",
        "\n",
        "                # Iterate over data.\n",
        "                for inputs, labels in dataloaders[phase]:\n",
        "                    inputs = inputs.to(DEVICE)\n",
        "                    labels = labels.to(DEVICE)\n",
        "\n",
        "                    # zero the parameter gradients\n",
        "                    optimizer.zero_grad()\n",
        "\n",
        "                    # forward\n",
        "                    # track history if only in train\n",
        "                    with torch.set_grad_enabled(phase == 'train'):\n",
        "                        outputs = model(inputs)\n",
        "                        _, preds = torch.max(outputs, 1)\n",
        "                        loss = criterion(outputs, labels)\n",
        "\n",
        "                        # backward + optimize only if in training phase\n",
        "                        if phase == 'train':\n",
        "                            loss.backward()\n",
        "                            optimizer.step()\n",
        "\n",
        "                    # statistics\n",
        "                    running_loss += loss.item() * inputs.size(0)\n",
        "                    running_corrects += torch.sum(preds == labels.data)\n",
        "                if phase == 'train':\n",
        "                    scheduler.step()\n",
        "\n",
        "                epoch_loss = running_loss / dataset_sizes[phase]\n",
        "                epoch_acc = running_corrects.double() / dataset_sizes[phase]\n",
        "\n",
        "                print(f'{phase} Loss: {epoch_loss:.4f} Acc: {epoch_acc:.4f}')\n",
        "\n",
        "                # deep copy the model\n",
        "                if phase == 'val' and epoch_acc > best_acc:\n",
        "                    best_acc = epoch_acc\n",
        "                    torch.save(model.state_dict(), best_model_params_path)\n",
        "\n",
        "            print()\n",
        "\n",
        "        time_elapsed = time.time() - since\n",
        "        print(f'Training complete in {time_elapsed // 60:.0f}m {time_elapsed % 60:.0f}s')\n",
        "        print(f'Best val Acc: {best_acc:4f}')\n",
        "\n",
        "        # load best model weights\n",
        "        model.load_state_dict(torch.load(best_model_params_path))\n",
        "    return model"
      ],
      "metadata": {
        "id": "FE71oSTZxzw0"
      },
      "execution_count": 5,
      "outputs": []
    },
    {
      "cell_type": "code",
      "source": [
        "\n",
        "# Train ResNet18\n",
        "\n",
        "model_train = resnet18(weights=None, num_classes=10) # Load resnet18 from pytorch\n",
        "model_train = model_train.to(DEVICE)\n",
        "\n",
        "criterion = nn.CrossEntropyLoss()\n",
        "\n",
        "# Observe that all parameters are being optimized\n",
        "optimizer_ft = optim.Adam(model_train.parameters(), lr=0.001)\n",
        "\n",
        "# Decay LR by a factor of 0.1 every 7 epochs\n",
        "exp_lr_scheduler = lr_scheduler.StepLR(optimizer_ft, step_size=7, gamma=0.1)"
      ],
      "metadata": {
        "id": "W7itE9Hnx2xy"
      },
      "execution_count": 6,
      "outputs": []
    },
    {
      "cell_type": "code",
      "source": [
        "# Train model\n",
        "model_train = train_model(model_train, criterion, optimizer_ft, exp_lr_scheduler,\n",
        "                       num_epochs=15)"
      ],
      "metadata": {
        "colab": {
          "base_uri": "https://localhost:8080/"
        },
        "id": "9SWnxyUvx4tn",
        "outputId": "023af233-87e2-49c2-beb8-f40ffef1432a"
      },
      "execution_count": 7,
      "outputs": [
        {
          "output_type": "stream",
          "name": "stdout",
          "text": [
            "Epoch 0/14\n",
            "----------\n",
            "train Loss: 1.3764 Acc: 0.5047\n",
            "val Loss: 1.1465 Acc: 0.5994\n",
            "\n",
            "Epoch 1/14\n",
            "----------\n",
            "train Loss: 0.9597 Acc: 0.6594\n",
            "val Loss: 1.0416 Acc: 0.6310\n",
            "\n",
            "Epoch 2/14\n",
            "----------\n",
            "train Loss: 0.7674 Acc: 0.7301\n",
            "val Loss: 1.0298 Acc: 0.6574\n",
            "\n",
            "Epoch 3/14\n",
            "----------\n",
            "train Loss: 0.6471 Acc: 0.7721\n",
            "val Loss: 0.9014 Acc: 0.7001\n",
            "\n",
            "Epoch 4/14\n",
            "----------\n",
            "train Loss: 0.5345 Acc: 0.8139\n",
            "val Loss: 0.9791 Acc: 0.6847\n",
            "\n",
            "Epoch 5/14\n",
            "----------\n",
            "train Loss: 0.4418 Acc: 0.8452\n",
            "val Loss: 0.8407 Acc: 0.7266\n",
            "\n",
            "Epoch 6/14\n",
            "----------\n",
            "train Loss: 0.3573 Acc: 0.8747\n",
            "val Loss: 0.8878 Acc: 0.7209\n",
            "\n",
            "Epoch 7/14\n",
            "----------\n",
            "train Loss: 0.1505 Acc: 0.9553\n",
            "val Loss: 0.7803 Acc: 0.7688\n",
            "\n",
            "Epoch 8/14\n",
            "----------\n",
            "train Loss: 0.0763 Acc: 0.9808\n",
            "val Loss: 0.8576 Acc: 0.7680\n",
            "\n",
            "Epoch 9/14\n",
            "----------\n",
            "train Loss: 0.0448 Acc: 0.9904\n",
            "val Loss: 0.9417 Acc: 0.7685\n",
            "\n",
            "Epoch 10/14\n",
            "----------\n",
            "train Loss: 0.0250 Acc: 0.9955\n",
            "val Loss: 1.0656 Acc: 0.7657\n",
            "\n",
            "Epoch 11/14\n",
            "----------\n",
            "train Loss: 0.0133 Acc: 0.9979\n",
            "val Loss: 1.1865 Acc: 0.7654\n",
            "\n",
            "Epoch 12/14\n",
            "----------\n",
            "train Loss: 0.0076 Acc: 0.9990\n",
            "val Loss: 1.3072 Acc: 0.7625\n",
            "\n",
            "Epoch 13/14\n",
            "----------\n",
            "train Loss: 0.0046 Acc: 0.9994\n",
            "val Loss: 1.3864 Acc: 0.7628\n",
            "\n",
            "Epoch 14/14\n",
            "----------\n",
            "train Loss: 0.0027 Acc: 0.9998\n",
            "val Loss: 1.3967 Acc: 0.7633\n",
            "\n",
            "Training complete in 5m 18s\n",
            "Best val Acc: 0.768800\n"
          ]
        }
      ]
    },
    {
      "cell_type": "code",
      "source": [
        "# Save model weights\n",
        "torch.save(model_train.state_dict(), \"model_train_params.pt\")\n",
        "# Save model weights\n",
        "torch.save(model_train.state_dict(), \"model_train_params_resnet18_cifar10.pt\")"
      ],
      "metadata": {
        "id": "VjZAqGDyx6_2"
      },
      "execution_count": 8,
      "outputs": []
    },
    {
      "cell_type": "code",
      "source": [
        "\n",
        "def accuracy(net, loader):\n",
        "    \"\"\"Return accuracy on a dataset given by the data loader.\"\"\"\n",
        "    correct = 0\n",
        "    total = 0\n",
        "    for inputs, targets in loader:\n",
        "        inputs, targets = inputs.to(DEVICE), targets.to(DEVICE)\n",
        "        outputs = net(inputs)\n",
        "        _, predicted = outputs.max(1)\n",
        "        total += targets.size(0)\n",
        "        correct += predicted.eq(targets).sum().item()\n",
        "    return correct / total\n",
        "\n",
        "\n",
        "print(f\"Train set accuracy: {100.0 * accuracy(model_train, train_loader):0.1f}%\")\n",
        "print(f\"Test set accuracy: {100.0 * accuracy(model_train, test_loader):0.1f}%\")"
      ],
      "metadata": {
        "colab": {
          "base_uri": "https://localhost:8080/"
        },
        "id": "nY9rVDrnzJNW",
        "outputId": "58daf66e-ca27-473d-ad1f-d5726fbed335"
      },
      "execution_count": 9,
      "outputs": [
        {
          "output_type": "stream",
          "name": "stdout",
          "text": [
            "Train set accuracy: 98.3%\n",
            "Test set accuracy: 76.9%\n"
          ]
        }
      ]
    },
    {
      "cell_type": "code",
      "source": [
        "from torch.optim.lr_scheduler import CosineAnnealingLR,CosineAnnealingWarmRestarts,StepLR\n",
        "def kl_loss_sym(x,y):\n",
        "    kl_loss = nn.KLDivLoss(reduction='batchmean')\n",
        "    return kl_loss(nn.LogSoftmax(dim=-1)(x),y)\n",
        "\n",
        "def unlearning(\n",
        "        net,\n",
        "        retain_loader,\n",
        "        forget_loader,\n",
        "        val_loader,\n",
        "):\n",
        "    \"\"\"Simple unlearning by finetuning.\"\"\"\n",
        "    print('-----------------------------------')\n",
        "    epochs = 8\n",
        "    retain_bs = 256\n",
        "    criterion = nn.CrossEntropyLoss()\n",
        "    optimizer = optim.SGD(net.parameters(), lr=0.005,\n",
        "                          momentum=0.9, weight_decay=0)\n",
        "    optimizer_retain = optim.SGD(net.parameters(), lr=0.001*retain_bs/64, momentum=0.9, weight_decay=1e-2)\n",
        "    ##the learning rate is associated with the batchsize we used\n",
        "    optimizer_forget = optim.SGD(net.parameters(), lr=3e-4, momentum=0.9, weight_decay=0)\n",
        "    total_step = int(len(forget_loader)*epochs)\n",
        "    retain_ld = DataLoader(retain_loader.dataset, batch_size=retain_bs, shuffle=True)\n",
        "    retain_ld4fgt = DataLoader(retain_loader.dataset, batch_size=256, shuffle=True)\n",
        "    scheduler = CosineAnnealingLR(optimizer_forget, T_max=total_step, eta_min=1e-6)\n",
        "\n",
        "    net.train()\n",
        "    for sample in forget_loader: ##First Stage\n",
        "        inputs, output = sample\n",
        "        inputs = inputs.to(DEVICE)\n",
        "        optimizer.zero_grad()\n",
        "        outputs = net(inputs)\n",
        "        uniform_label = torch.ones_like(outputs).to(DEVICE) / outputs.shape[1] ##uniform pseudo label\n",
        "        loss = kl_loss_sym(outputs, uniform_label) ##optimize the distance between logits and pseudo labels\n",
        "        loss.backward()\n",
        "        optimizer.step()\n",
        "\n",
        "    net.train()\n",
        "    for ep in range(epochs): ##Second Stage\n",
        "        net.train()\n",
        "        for sample_forget, sample_retain in zip(forget_loader, retain_ld4fgt):##Forget Round\n",
        "            t = 1.15 ##temperature coefficient\n",
        "            inputs_forget,inputs_retain = sample_forget[0],sample_retain[0]\n",
        "            inputs_forget, inputs_retain = inputs_forget.to(DEVICE), inputs_retain.to(DEVICE)\n",
        "            optimizer_forget.zero_grad()\n",
        "            outputs_forget,outputs_retain = net(inputs_forget),net(inputs_retain).detach()\n",
        "            loss = (-1 * nn.LogSoftmax(dim=-1)(outputs_forget @ outputs_retain.T/t)).mean() ##Contrastive Learning loss\n",
        "            loss.backward()\n",
        "            optimizer_forget.step()\n",
        "            scheduler.step()\n",
        "        for sample in retain_ld: ##Retain Round\n",
        "            inputs, labels = sample\n",
        "            inputs, labels = inputs.to(DEVICE), labels.to(DEVICE)\n",
        "            optimizer_retain.zero_grad()\n",
        "            outputs = net(inputs)\n",
        "            loss = criterion(outputs, labels)\n",
        "            loss.backward()\n",
        "            optimizer_retain.step()\n",
        "\n",
        "    print('-----------------------------------')\n",
        "    return net"
      ],
      "metadata": {
        "id": "BhS8wXEmzQD-"
      },
      "execution_count": 25,
      "outputs": []
    },
    {
      "cell_type": "code",
      "source": [
        "\n",
        "# Define model from trained params\n",
        "\n",
        "model_forget_ft = resnet18(weights=None, num_classes=10) # Load resnet18 from pytorch\n",
        "model_forget_ft.load_state_dict(torch.load(\"model_train_params.pt\"))\n",
        "model_forget_ft.to(DEVICE)"
      ],
      "metadata": {
        "colab": {
          "base_uri": "https://localhost:8080/"
        },
        "id": "Pxd3SAEI0Kuj",
        "outputId": "4c4d8c6b-732c-4158-9202-4b23e85688e5"
      },
      "execution_count": 26,
      "outputs": [
        {
          "output_type": "execute_result",
          "data": {
            "text/plain": [
              "ResNet(\n",
              "  (conv1): Conv2d(3, 64, kernel_size=(7, 7), stride=(2, 2), padding=(3, 3), bias=False)\n",
              "  (bn1): BatchNorm2d(64, eps=1e-05, momentum=0.1, affine=True, track_running_stats=True)\n",
              "  (relu): ReLU(inplace=True)\n",
              "  (maxpool): MaxPool2d(kernel_size=3, stride=2, padding=1, dilation=1, ceil_mode=False)\n",
              "  (layer1): Sequential(\n",
              "    (0): BasicBlock(\n",
              "      (conv1): Conv2d(64, 64, kernel_size=(3, 3), stride=(1, 1), padding=(1, 1), bias=False)\n",
              "      (bn1): BatchNorm2d(64, eps=1e-05, momentum=0.1, affine=True, track_running_stats=True)\n",
              "      (relu): ReLU(inplace=True)\n",
              "      (conv2): Conv2d(64, 64, kernel_size=(3, 3), stride=(1, 1), padding=(1, 1), bias=False)\n",
              "      (bn2): BatchNorm2d(64, eps=1e-05, momentum=0.1, affine=True, track_running_stats=True)\n",
              "    )\n",
              "    (1): BasicBlock(\n",
              "      (conv1): Conv2d(64, 64, kernel_size=(3, 3), stride=(1, 1), padding=(1, 1), bias=False)\n",
              "      (bn1): BatchNorm2d(64, eps=1e-05, momentum=0.1, affine=True, track_running_stats=True)\n",
              "      (relu): ReLU(inplace=True)\n",
              "      (conv2): Conv2d(64, 64, kernel_size=(3, 3), stride=(1, 1), padding=(1, 1), bias=False)\n",
              "      (bn2): BatchNorm2d(64, eps=1e-05, momentum=0.1, affine=True, track_running_stats=True)\n",
              "    )\n",
              "  )\n",
              "  (layer2): Sequential(\n",
              "    (0): BasicBlock(\n",
              "      (conv1): Conv2d(64, 128, kernel_size=(3, 3), stride=(2, 2), padding=(1, 1), bias=False)\n",
              "      (bn1): BatchNorm2d(128, eps=1e-05, momentum=0.1, affine=True, track_running_stats=True)\n",
              "      (relu): ReLU(inplace=True)\n",
              "      (conv2): Conv2d(128, 128, kernel_size=(3, 3), stride=(1, 1), padding=(1, 1), bias=False)\n",
              "      (bn2): BatchNorm2d(128, eps=1e-05, momentum=0.1, affine=True, track_running_stats=True)\n",
              "      (downsample): Sequential(\n",
              "        (0): Conv2d(64, 128, kernel_size=(1, 1), stride=(2, 2), bias=False)\n",
              "        (1): BatchNorm2d(128, eps=1e-05, momentum=0.1, affine=True, track_running_stats=True)\n",
              "      )\n",
              "    )\n",
              "    (1): BasicBlock(\n",
              "      (conv1): Conv2d(128, 128, kernel_size=(3, 3), stride=(1, 1), padding=(1, 1), bias=False)\n",
              "      (bn1): BatchNorm2d(128, eps=1e-05, momentum=0.1, affine=True, track_running_stats=True)\n",
              "      (relu): ReLU(inplace=True)\n",
              "      (conv2): Conv2d(128, 128, kernel_size=(3, 3), stride=(1, 1), padding=(1, 1), bias=False)\n",
              "      (bn2): BatchNorm2d(128, eps=1e-05, momentum=0.1, affine=True, track_running_stats=True)\n",
              "    )\n",
              "  )\n",
              "  (layer3): Sequential(\n",
              "    (0): BasicBlock(\n",
              "      (conv1): Conv2d(128, 256, kernel_size=(3, 3), stride=(2, 2), padding=(1, 1), bias=False)\n",
              "      (bn1): BatchNorm2d(256, eps=1e-05, momentum=0.1, affine=True, track_running_stats=True)\n",
              "      (relu): ReLU(inplace=True)\n",
              "      (conv2): Conv2d(256, 256, kernel_size=(3, 3), stride=(1, 1), padding=(1, 1), bias=False)\n",
              "      (bn2): BatchNorm2d(256, eps=1e-05, momentum=0.1, affine=True, track_running_stats=True)\n",
              "      (downsample): Sequential(\n",
              "        (0): Conv2d(128, 256, kernel_size=(1, 1), stride=(2, 2), bias=False)\n",
              "        (1): BatchNorm2d(256, eps=1e-05, momentum=0.1, affine=True, track_running_stats=True)\n",
              "      )\n",
              "    )\n",
              "    (1): BasicBlock(\n",
              "      (conv1): Conv2d(256, 256, kernel_size=(3, 3), stride=(1, 1), padding=(1, 1), bias=False)\n",
              "      (bn1): BatchNorm2d(256, eps=1e-05, momentum=0.1, affine=True, track_running_stats=True)\n",
              "      (relu): ReLU(inplace=True)\n",
              "      (conv2): Conv2d(256, 256, kernel_size=(3, 3), stride=(1, 1), padding=(1, 1), bias=False)\n",
              "      (bn2): BatchNorm2d(256, eps=1e-05, momentum=0.1, affine=True, track_running_stats=True)\n",
              "    )\n",
              "  )\n",
              "  (layer4): Sequential(\n",
              "    (0): BasicBlock(\n",
              "      (conv1): Conv2d(256, 512, kernel_size=(3, 3), stride=(2, 2), padding=(1, 1), bias=False)\n",
              "      (bn1): BatchNorm2d(512, eps=1e-05, momentum=0.1, affine=True, track_running_stats=True)\n",
              "      (relu): ReLU(inplace=True)\n",
              "      (conv2): Conv2d(512, 512, kernel_size=(3, 3), stride=(1, 1), padding=(1, 1), bias=False)\n",
              "      (bn2): BatchNorm2d(512, eps=1e-05, momentum=0.1, affine=True, track_running_stats=True)\n",
              "      (downsample): Sequential(\n",
              "        (0): Conv2d(256, 512, kernel_size=(1, 1), stride=(2, 2), bias=False)\n",
              "        (1): BatchNorm2d(512, eps=1e-05, momentum=0.1, affine=True, track_running_stats=True)\n",
              "      )\n",
              "    )\n",
              "    (1): BasicBlock(\n",
              "      (conv1): Conv2d(512, 512, kernel_size=(3, 3), stride=(1, 1), padding=(1, 1), bias=False)\n",
              "      (bn1): BatchNorm2d(512, eps=1e-05, momentum=0.1, affine=True, track_running_stats=True)\n",
              "      (relu): ReLU(inplace=True)\n",
              "      (conv2): Conv2d(512, 512, kernel_size=(3, 3), stride=(1, 1), padding=(1, 1), bias=False)\n",
              "      (bn2): BatchNorm2d(512, eps=1e-05, momentum=0.1, affine=True, track_running_stats=True)\n",
              "    )\n",
              "  )\n",
              "  (avgpool): AdaptiveAvgPool2d(output_size=(1, 1))\n",
              "  (fc): Linear(in_features=512, out_features=10, bias=True)\n",
              ")"
            ]
          },
          "metadata": {},
          "execution_count": 26
        }
      ]
    },
    {
      "cell_type": "code",
      "source": [
        "# Unlearn model\n",
        "%%time\n",
        "model_ft_forget = unlearning(model_forget_ft, retain_loader, forget_loader, test_loader)"
      ],
      "metadata": {
        "colab": {
          "base_uri": "https://localhost:8080/"
        },
        "id": "V7xkfLb80MvL",
        "outputId": "4aeaef34-733e-45e4-ec51-ad6cf142bce2"
      },
      "execution_count": 27,
      "outputs": [
        {
          "output_type": "stream",
          "name": "stdout",
          "text": [
            "-----------------------------------\n",
            "-----------------------------------\n",
            "CPU times: user 2min 12s, sys: 998 ms, total: 2min 13s\n",
            "Wall time: 2min 15s\n"
          ]
        }
      ]
    },
    {
      "cell_type": "code",
      "source": [
        "\n",
        "# Compare accuracy\n",
        "print(f\"Retain set accuracy: {100.0 * accuracy(model_ft_forget, retain_loader):0.1f}%\")\n",
        "print(f\"Test set accuracy: {100.0 * accuracy(model_ft_forget, test_loader):0.1f}%\")\n"
      ],
      "metadata": {
        "colab": {
          "base_uri": "https://localhost:8080/"
        },
        "id": "BEV71Ber0PhA",
        "outputId": "7584d41a-91d8-4c38-b9ed-269184467e8a"
      },
      "execution_count": 28,
      "outputs": [
        {
          "output_type": "stream",
          "name": "stdout",
          "text": [
            "Retain set accuracy: 99.9%\n",
            "Test set accuracy: 75.8%\n"
          ]
        }
      ]
    },
    {
      "cell_type": "code",
      "source": [
        "def compute_losses(net, loader):\n",
        "    \"\"\"Auxiliary function to compute per-sample losses\"\"\"\n",
        "\n",
        "    criterion = nn.CrossEntropyLoss(reduction=\"none\")\n",
        "    all_losses = []\n",
        "\n",
        "    for inputs, targets in loader:\n",
        "        inputs, targets = inputs.to(DEVICE), targets.to(DEVICE)\n",
        "\n",
        "        logits = net(inputs)\n",
        "        losses = criterion(logits, targets).numpy(force=True)\n",
        "        for l in losses:\n",
        "            all_losses.append(l)\n",
        "\n",
        "    return np.array(all_losses)\n",
        "\n",
        "\n",
        "train_losses = compute_losses(model_train, train_loader)\n",
        "test_losses = compute_losses(model_train, test_loader)"
      ],
      "metadata": {
        "id": "KkpeMq4X5tEa"
      },
      "execution_count": 29,
      "outputs": []
    },
    {
      "cell_type": "code",
      "source": [
        "def simple_mia(sample_loss, members, n_splits=10, random_state=0):\n",
        "    \"\"\"Computes cross-validation score of a membership inference attack.\n",
        "\n",
        "    Args:\n",
        "      sample_loss : array_like of shape (n,).\n",
        "        objective function evaluated on n samples.\n",
        "      members : array_like of shape (n,),\n",
        "        whether a sample was used for training.\n",
        "      n_splits: int\n",
        "        number of splits to use in the cross-validation.\n",
        "    Returns:\n",
        "      scores : array_like of size (n_splits,)\n",
        "    \"\"\"\n",
        "\n",
        "    unique_members = np.unique(members)\n",
        "    if not np.all(unique_members == np.array([0, 1])):\n",
        "        raise ValueError(\"members should only have 0 and 1s\")\n",
        "\n",
        "    attack_model = linear_model.LogisticRegression()\n",
        "    cv = model_selection.StratifiedShuffleSplit(\n",
        "        n_splits=n_splits, random_state=random_state\n",
        "    )\n",
        "    return model_selection.cross_val_score(\n",
        "        attack_model, sample_loss, members, cv=cv, scoring=\"accuracy\"\n",
        "    )\n"
      ],
      "metadata": {
        "id": "D4rXeJ-s52iI"
      },
      "execution_count": 30,
      "outputs": []
    },
    {
      "cell_type": "code",
      "source": [
        "# TRAIN MODEL\n",
        "# Get random test samples\n",
        "randomize = np.arange(len(test_losses))\n",
        "np.random.shuffle(randomize)\n",
        "\n",
        "# Compute forget losses on train dataset\n",
        "forget_losses = compute_losses(model_train, forget_loader)\n",
        "\n",
        "# Since we have more forget losses than test losses, sub-sample them, to have a class-balanced dataset.\n",
        "test_losses = test_losses[randomize][: len(forget_losses)]\n",
        "\n",
        "samples_mia = np.concatenate((test_losses, forget_losses)).reshape((-1, 1))\n",
        "labels_mia = [0] * len(test_losses) + [1] * len(forget_losses)\n",
        "\n",
        "mia_scores = simple_mia(samples_mia, labels_mia)\n",
        "\n",
        "print(\n",
        "    f\"The MIA has an accuracy of {mia_scores.mean():.3f} on forgotten vs unseen images\"\n",
        ")\n"
      ],
      "metadata": {
        "colab": {
          "base_uri": "https://localhost:8080/"
        },
        "id": "N-OnoUXc582D",
        "outputId": "7d0e2d4e-16f1-4236-8158-559f9225a32d"
      },
      "execution_count": 31,
      "outputs": [
        {
          "output_type": "stream",
          "name": "stdout",
          "text": [
            "The MIA has an accuracy of 0.710 on forgotten vs unseen images\n"
          ]
        }
      ]
    },
    {
      "cell_type": "code",
      "source": [
        "# FORGET MODEL\n",
        "\n",
        "# Compute forget losses for forget model\n",
        "forget_losses_fr = compute_losses(model_ft_forget, forget_loader)\n",
        "test_losses_fr = compute_losses(model_ft_forget, test_loader)\n",
        "\n",
        "# Since we have more forget losses than test losses, sub-sample them, to have a class-balanced dataset.\n",
        "test_losses_fr = test_losses_fr[randomize][: len(forget_losses)]\n",
        "\n",
        "# make sure we have a balanced dataset for the MIA\n",
        "samples_mia_fr = np.concatenate((test_losses_fr, forget_losses_fr)).reshape((-1, 1))\n",
        "labels_mia_fr = [0] * len(test_losses_fr) + [1] * len(forget_losses_fr)\n",
        "\n",
        "mia_scores_fr = simple_mia(samples_mia_fr, labels_mia_fr)\n",
        "\n",
        "print(\n",
        "    f\"The MIA has an accuracy of {mia_scores_fr.mean():.3f} on forgotten vs unseen images\"\n",
        ")"
      ],
      "metadata": {
        "colab": {
          "base_uri": "https://localhost:8080/"
        },
        "id": "M3yOUYi96Auj",
        "outputId": "783cb59f-4c5a-4783-f437-65856d0dd7ba"
      },
      "execution_count": 32,
      "outputs": [
        {
          "output_type": "stream",
          "name": "stdout",
          "text": [
            "The MIA has an accuracy of 0.810 on forgotten vs unseen images\n"
          ]
        }
      ]
    },
    {
      "cell_type": "code",
      "source": [
        "fig, (ax1, ax2) = plt.subplots(1, 2, figsize=(16, 6))\n",
        "\n",
        "ax1.set_title(f\"Pre-trained model.\\nAttack accuracy: {mia_scores.mean():0.2f}\")\n",
        "ax1.hist(test_losses, density=True, alpha=0.5, bins=5, label=\"Test set\")\n",
        "ax1.hist(forget_losses, density=True, alpha=0.5, bins=5, label=\"Forget set\")\n",
        "\n",
        "ax2.set_title(\n",
        "    f\"Unlearned by fine-tuning.\\nAttack accuracy: {mia_scores_fr.mean():0.2f}\"\n",
        ")\n",
        "ax2.hist(test_losses_fr, density=True, alpha=0.5, bins=5, label=\"Test set\")\n",
        "ax2.hist(forget_losses_fr, density=True, alpha=0.5, bins=5, label=\"Forget set\")\n",
        "\n",
        "ax1.set_xlabel(\"Loss\")\n",
        "ax2.set_xlabel(\"Loss\")\n",
        "ax1.set_ylabel(\"Frequency\")\n",
        "ax1.set_yscale(\"log\")\n",
        "ax2.set_yscale(\"log\")\n",
        "ax1.set_xlim((0, np.max(test_losses)))\n",
        "ax2.set_xlim((0, np.max(test_losses)))\n",
        "for ax in (ax1, ax2):\n",
        "    ax.spines[\"top\"].set_visible(False)\n",
        "    ax.spines[\"right\"].set_visible(False)\n",
        "ax1.legend(frameon=False, fontsize=14)\n",
        "plt.show()\n",
        "\n"
      ],
      "metadata": {
        "colab": {
          "base_uri": "https://localhost:8080/",
          "height": 495
        },
        "id": "U3RQAq-X6CuJ",
        "outputId": "c7219f4f-94d8-4ef8-f784-e608b4a3fd70"
      },
      "execution_count": 34,
      "outputs": [
        {
          "output_type": "display_data",
          "data": {
            "text/plain": [
              "<Figure size 1600x600 with 2 Axes>"
            ],
            "image/png": "[encoded data removed]"
          },
          "metadata": {}
        }
      ]
    },
    {
      "cell_type": "code",
      "source": [
        "# Train ResNet18\n",
        "\n",
        "model_retain_ds = resnet18(weights=None, num_classes=10) # Load resnet18 from pytorch\n",
        "model_retain_ds = model_retain_ds.to(DEVICE)\n",
        "\n",
        "criterion = nn.CrossEntropyLoss()\n",
        "\n",
        "# Observe that all parameters are being optimized\n",
        "optimizer_ft = optim.Adam(model_retain_ds.parameters(), lr=0.001)\n",
        "\n",
        "# Decay LR by a factor of 0.1 every 7 epochs\n",
        "exp_lr_scheduler = lr_scheduler.StepLR(optimizer_ft, step_size=7, gamma=0.1)"
      ],
      "metadata": {
        "id": "uPGJVwnQ6IRF"
      },
      "execution_count": 35,
      "outputs": []
    },
    {
      "cell_type": "code",
      "source": [
        "\n",
        "# Add helping dicts\n",
        "\n",
        "\n",
        "dataloaders = {\n",
        "    \"train\": retain_loader,\n",
        "    \"val\": test_loader\n",
        "}\n",
        "\n",
        "dataset_sizes = {\"train\": len(retain_set), \"val\": len(test_set)}\n",
        "\n",
        "# Train model\n",
        "model_retain_ds = train_model(model_retain_ds, criterion, optimizer_ft, exp_lr_scheduler,\n",
        "                       num_epochs=15)"
      ],
      "metadata": {
        "colab": {
          "base_uri": "https://localhost:8080/"
        },
        "id": "DOGN0gge6OgF",
        "outputId": "5651245b-cac2-41f9-fbce-238e3845dd77"
      },
      "execution_count": 36,
      "outputs": [
        {
          "output_type": "stream",
          "name": "stdout",
          "text": [
            "Epoch 0/14\n",
            "----------\n",
            "train Loss: 1.3737 Acc: 0.5055\n",
            "val Loss: 1.2962 Acc: 0.5442\n",
            "\n",
            "Epoch 1/14\n",
            "----------\n",
            "train Loss: 0.9853 Acc: 0.6497\n",
            "val Loss: 1.0237 Acc: 0.6413\n",
            "\n",
            "Epoch 2/14\n",
            "----------\n",
            "train Loss: 0.8054 Acc: 0.7131\n",
            "val Loss: 0.9900 Acc: 0.6651\n",
            "\n",
            "Epoch 3/14\n",
            "----------\n",
            "train Loss: 0.6751 Acc: 0.7614\n",
            "val Loss: 0.9043 Acc: 0.6939\n",
            "\n",
            "Epoch 4/14\n",
            "----------\n",
            "train Loss: 0.5648 Acc: 0.8004\n",
            "val Loss: 0.8196 Acc: 0.7239\n",
            "\n",
            "Epoch 5/14\n",
            "----------\n",
            "train Loss: 0.4813 Acc: 0.8315\n",
            "val Loss: 0.8998 Acc: 0.7169\n",
            "\n",
            "Epoch 6/14\n",
            "----------\n",
            "train Loss: 0.3935 Acc: 0.8605\n",
            "val Loss: 0.9093 Acc: 0.7240\n",
            "\n",
            "Epoch 7/14\n",
            "----------\n",
            "train Loss: 0.1685 Acc: 0.9465\n",
            "val Loss: 0.8005 Acc: 0.7674\n",
            "\n",
            "Epoch 8/14\n",
            "----------\n",
            "train Loss: 0.0910 Acc: 0.9743\n",
            "val Loss: 0.8670 Acc: 0.7680\n",
            "\n",
            "Epoch 9/14\n",
            "----------\n",
            "train Loss: 0.0551 Acc: 0.9860\n",
            "val Loss: 0.9562 Acc: 0.7660\n",
            "\n",
            "Epoch 10/14\n",
            "----------\n",
            "train Loss: 0.0349 Acc: 0.9922\n",
            "val Loss: 1.0740 Acc: 0.7634\n",
            "\n",
            "Epoch 11/14\n",
            "----------\n",
            "train Loss: 0.0183 Acc: 0.9970\n",
            "val Loss: 1.1763 Acc: 0.7633\n",
            "\n",
            "Epoch 12/14\n",
            "----------\n",
            "train Loss: 0.0101 Acc: 0.9984\n",
            "val Loss: 1.3107 Acc: 0.7600\n",
            "\n",
            "Epoch 13/14\n",
            "----------\n",
            "train Loss: 0.0098 Acc: 0.9981\n",
            "val Loss: 1.4172 Acc: 0.7554\n",
            "\n",
            "Epoch 14/14\n",
            "----------\n",
            "train Loss: 0.0046 Acc: 0.9995\n",
            "val Loss: 1.4239 Acc: 0.7582\n",
            "\n",
            "Training complete in 5m 27s\n",
            "Best val Acc: 0.768000\n"
          ]
        }
      ]
    },
    {
      "cell_type": "code",
      "source": [
        "# Save model weights\n",
        "torch.save(model_retain_ds.state_dict(), \"model_retrain_params_resnet18_cifar10.pt\")"
      ],
      "metadata": {
        "id": "AN4MHoIm6S84"
      },
      "execution_count": 37,
      "outputs": []
    },
    {
      "cell_type": "code",
      "source": [
        "\n",
        "# MIA attack on retain model\n",
        "\n",
        "# Compute forget losses for forget model\n",
        "forget_losses_rt = compute_losses(model_retain_ds, forget_loader)\n",
        "test_losses_rt = compute_losses(model_retain_ds, test_loader)\n",
        "\n",
        "# Since we have more forget losses than test losses, sub-sample them, to have a class-balanced dataset.\n",
        "test_losses_rt = test_losses_rt[randomize][: len(forget_losses)]\n",
        "\n",
        "# make sure we have a balanced dataset for the MIA\n",
        "samples_mia_rt = np.concatenate((test_losses_rt, forget_losses_rt)).reshape((-1, 1))\n",
        "labels_mia_rt = [0] * len(test_losses_rt) + [1] * len(forget_losses_rt)\n",
        "\n",
        "mia_scores_rt = simple_mia(samples_mia_rt, labels_mia_rt)\n",
        "\n",
        "print(\n",
        "    f\"The MIA has an accuracy of {mia_scores_fr.mean():.3f} on forgotten vs unseen images\"\n",
        ")"
      ],
      "metadata": {
        "colab": {
          "base_uri": "https://localhost:8080/"
        },
        "id": "ji2eYmJH6P4-",
        "outputId": "88fb493f-3ddb-46a3-9700-f0dc082e425b"
      },
      "execution_count": 38,
      "outputs": [
        {
          "output_type": "stream",
          "name": "stdout",
          "text": [
            "The MIA has an accuracy of 0.810 on forgotten vs unseen images\n"
          ]
        }
      ]
    },
    {
      "cell_type": "code",
      "source": [
        "\n",
        "AD = np.linalg.norm(forget_losses_fr-forget_losses_rt)"
      ],
      "metadata": {
        "id": "MyjZdZcI78Gj"
      },
      "execution_count": 39,
      "outputs": []
    },
    {
      "cell_type": "code",
      "source": [
        "AD"
      ],
      "metadata": {
        "colab": {
          "base_uri": "https://localhost:8080/"
        },
        "id": "DW2TC-rv8DJi",
        "outputId": "b65f6271-06ec-43d6-d5e4-e9d017394c13"
      },
      "execution_count": 40,
      "outputs": [
        {
          "output_type": "execute_result",
          "data": {
            "text/plain": [
              "33.1726"
            ]
          },
          "metadata": {},
          "execution_count": 40
        }
      ]
    },
    {
      "cell_type": "code",
      "source": [
        "# Generalisation\n",
        "# Calculating score across 10 different classes\n",
        "\n",
        "# Show different classes\n",
        "classes = np.unique(np.array(train_set.targets))\n",
        "\n",
        "MIA_scores = []\n",
        "Accuracy_retain = []\n",
        "Accuracy_forget = []\n",
        "AD_score = []\n",
        "\n",
        "for class_num in classes:\n",
        "  # Define model from trained params\n",
        "\n",
        "  model_forget_ft = resnet18(weights=None, num_classes=10) # Load resnet18 from pytorch\n",
        "  model_forget_ft.load_state_dict(torch.load(\"model_train_params.pt\"))\n",
        "  model_forget_ft.to(DEVICE)\n",
        "\n",
        "  # Choose random forget indecies from some class\n",
        "  # Index of class\n",
        "  class_index = class_num # cars\n",
        "  class_set = np.where(np.array(train_set.targets) == 1)[0]\n",
        "\n",
        "  # Percantage of whole data ( from class )\n",
        "  amount = 0.01 # 1 %\n",
        "  amount_int = class_set.shape[0] * amount\n",
        "\n",
        "  # Get indeces\n",
        "  forget_idx = np.random.choice(class_set, int(amount_int))\n",
        "\n",
        "  # construct indices of retain from those of the forget set\n",
        "  forget_mask = np.zeros(len(train_set.targets), dtype=bool)\n",
        "  forget_mask[forget_idx] = True\n",
        "  retain_idx = np.arange(forget_mask.size)[~forget_mask]\n",
        "\n",
        "  # split train set into a forget and a retain set\n",
        "  forget_set = torch.utils.data.Subset(train_set, forget_idx)\n",
        "  retain_set = torch.utils.data.Subset(train_set, retain_idx)\n",
        "\n",
        "  # Generate forget and retain loaders\n",
        "  forget_loader = torch.utils.data.DataLoader(\n",
        "      forget_set, batch_size=256, shuffle=True, num_workers=2, generator=RNG\n",
        "  )\n",
        "  retain_loader = torch.utils.data.DataLoader(\n",
        "      retain_set, batch_size=256, shuffle=True, num_workers=2, generator=RNG\n",
        "  )\n",
        "  # Unlearn\n",
        "  model_ft_forget = unlearning(model_forget_ft, retain_loader, forget_loader, test_loader)\n",
        "\n",
        "  # Compare accuracy\n",
        "  print(f\"Retain set accuracy: {100.0 * accuracy(model_ft_forget, retain_loader):0.1f}%\")\n",
        "  print(f\"Test set accuracy: {100.0 * accuracy(model_ft_forget, test_loader):0.1f}%\")\n",
        "\n",
        "  Accuracy_retain.append(100.0 * accuracy(model_ft_forget, retain_loader))\n",
        "  Accuracy_forget.append(100.0 * accuracy(model_ft_forget, test_loader))\n",
        "\n",
        "  # MIA\n",
        "\n",
        "  # Compute forget losses for forget model\n",
        "  forget_losses_fr = compute_losses(model_ft_forget, forget_loader)\n",
        "  test_losses_fr = compute_losses(model_ft_forget, test_loader)\n",
        "\n",
        "  # Since we have more forget losses than test losses, sub-sample them, to have a class-balanced dataset.\n",
        "  test_losses_fr = test_losses_fr[randomize][: len(forget_losses)]\n",
        "\n",
        "  # make sure we have a balanced dataset for the MIA\n",
        "  samples_mia_fr = np.concatenate((test_losses_fr, forget_losses_fr)).reshape((-1, 1))\n",
        "  labels_mia_fr = [0] * len(test_losses_fr) + [1] * len(forget_losses_fr)\n",
        "\n",
        "  mia_scores_fr = simple_mia(samples_mia_fr, labels_mia_fr)\n",
        "  MIA_scores.append(mia_scores_fr)\n",
        "  print(\n",
        "      f\"The MIA has an accuracy of {mia_scores_fr.mean():.3f} on forgotten vs unseen images\"\n",
        "  )"
      ],
      "metadata": {
        "colab": {
          "base_uri": "https://localhost:8080/"
        },
        "id": "DeeiTyBX8FKx",
        "outputId": "cdf6d0ed-5dfd-4a93-a6ae-3d23a94a2e8d"
      },
      "execution_count": 41,
      "outputs": [
        {
          "output_type": "stream",
          "name": "stdout",
          "text": [
            "-----------------------------------\n",
            "-----------------------------------\n",
            "Retain set accuracy: 99.8%\n",
            "Test set accuracy: 75.8%\n",
            "The MIA has an accuracy of 0.870 on forgotten vs unseen images\n",
            "-----------------------------------\n",
            "-----------------------------------\n",
            "Retain set accuracy: 99.9%\n",
            "Test set accuracy: 75.9%\n",
            "The MIA has an accuracy of 0.630 on forgotten vs unseen images\n",
            "-----------------------------------\n",
            "-----------------------------------\n",
            "Retain set accuracy: 99.8%\n",
            "Test set accuracy: 75.9%\n",
            "The MIA has an accuracy of 0.830 on forgotten vs unseen images\n",
            "-----------------------------------\n",
            "-----------------------------------\n",
            "Retain set accuracy: 99.8%\n",
            "Test set accuracy: 76.2%\n",
            "The MIA has an accuracy of 0.840 on forgotten vs unseen images\n",
            "-----------------------------------\n",
            "-----------------------------------\n",
            "Retain set accuracy: 99.8%\n",
            "Test set accuracy: 76.3%\n",
            "The MIA has an accuracy of 0.840 on forgotten vs unseen images\n",
            "-----------------------------------\n",
            "-----------------------------------\n",
            "Retain set accuracy: 99.9%\n",
            "Test set accuracy: 76.1%\n",
            "The MIA has an accuracy of 0.750 on forgotten vs unseen images\n",
            "-----------------------------------\n",
            "-----------------------------------\n",
            "Retain set accuracy: 99.9%\n",
            "Test set accuracy: 75.9%\n",
            "The MIA has an accuracy of 0.890 on forgotten vs unseen images\n",
            "-----------------------------------\n",
            "-----------------------------------\n",
            "Retain set accuracy: 99.9%\n",
            "Test set accuracy: 75.7%\n",
            "The MIA has an accuracy of 0.820 on forgotten vs unseen images\n",
            "-----------------------------------\n",
            "-----------------------------------\n",
            "Retain set accuracy: 99.8%\n",
            "Test set accuracy: 76.0%\n",
            "The MIA has an accuracy of 0.770 on forgotten vs unseen images\n",
            "-----------------------------------\n",
            "-----------------------------------\n",
            "Retain set accuracy: 99.8%\n",
            "Test set accuracy: 75.7%\n",
            "The MIA has an accuracy of 0.780 on forgotten vs unseen images\n"
          ]
        }
      ]
    },
    {
      "cell_type": "code",
      "source": [
        "\n",
        "MIA_scores = [m.mean() for m in MIA_scores]\n",
        "print(MIA_scores)\n",
        "print(Accuracy_retain)\n",
        "print(Accuracy_forget)\n",
        ""
      ],
      "metadata": {
        "colab": {
          "base_uri": "https://localhost:8080/"
        },
        "id": "aR-3Ciez8UFz",
        "outputId": "753f1d28-039c-4f9e-bcce-e6b65f6b3f9c"
      },
      "execution_count": 42,
      "outputs": [
        {
          "output_type": "stream",
          "name": "stdout",
          "text": [
            "[0.8700000000000001, 0.6299999999999999, 0.8300000000000001, 0.8399999999999999, 0.8400000000000001, 0.75, 0.89, 0.8200000000000001, 0.7700000000000001, 0.78]\n",
            "[99.83583912233989, 99.88188188188188, 99.84584584584584, 99.7917917917918, 99.81581950311305, 99.87187187187187, 99.86786786786787, 99.85986266541211, 99.84985285579869, 99.77377377377378]\n",
            "[75.88000000000001, 75.94, 76.35, 76.08, 76.35, 75.67, 75.66000000000001, 75.99000000000001, 75.56, 75.81]\n"
          ]
        }
      ]
    },
    {
      "cell_type": "code",
      "source": [
        "# Mean MIA\n",
        "mean_mia_1 = sum(MIA_scores) / len(MIA_scores)\n",
        "\n",
        "# Mean Accuracy Retain\n",
        "mean_accuracy_retain = sum(Accuracy_retain) / len(Accuracy_retain)\n",
        "\n",
        "# Mean Accuracy forget\n",
        "mean_accuracy_forget = sum(Accuracy_forget) / len(Accuracy_forget)"
      ],
      "metadata": {
        "id": "Ej1jtZwhCBoM"
      },
      "execution_count": 43,
      "outputs": []
    },
    {
      "cell_type": "code",
      "source": [
        "\n",
        "print(mean_mia_1)\n",
        "print(mean_accuracy_retain)\n",
        "print(mean_accuracy_forget)\n",
        ""
      ],
      "metadata": {
        "colab": {
          "base_uri": "https://localhost:8080/"
        },
        "id": "PvNUFJIKCDHk",
        "outputId": "f321e2bc-1626-473f-eead-9ffeb1e4c85a"
      },
      "execution_count": 44,
      "outputs": [
        {
          "output_type": "stream",
          "name": "stdout",
          "text": [
            "0.8019999999999999\n",
            "99.83944071796968\n",
            "75.929\n"
          ]
        }
      ]
    },
    {
      "cell_type": "code",
      "source": [
        "# Generalisation 2 %\n",
        "# Calculating score across 10 different classes\n",
        "\n",
        "# Show different classes\n",
        "classes = np.unique(np.array(train_set.targets))\n",
        "\n",
        "MIA_scores = []\n",
        "Accuracy_retain = []\n",
        "Accuracy_forget = []\n",
        "AD_score = []\n",
        "\n",
        "for class_num in classes:\n",
        "  # Define model from trained params\n",
        "\n",
        "  model_forget_ft = resnet18(weights=None, num_classes=10) # Load resnet18 from pytorch\n",
        "  model_forget_ft.load_state_dict(torch.load(\"model_train_params.pt\"))\n",
        "  model_forget_ft.to(DEVICE)\n",
        "\n",
        "  # Choose random forget indecies from some class\n",
        "  # Index of class\n",
        "  class_index = class_num # cars\n",
        "  class_set = np.where(np.array(train_set.targets) == 1)[0]\n",
        "\n",
        "  # Percantage of whole data ( from class )\n",
        "  amount = 0.02 # 2 %\n",
        "  amount_int = class_set.shape[0] * amount\n",
        "\n",
        "  # Get indeces\n",
        "  forget_idx = np.random.choice(class_set, int(amount_int))\n",
        "\n",
        "  # construct indices of retain from those of the forget set\n",
        "  forget_mask = np.zeros(len(train_set.targets), dtype=bool)\n",
        "  forget_mask[forget_idx] = True\n",
        "  retain_idx = np.arange(forget_mask.size)[~forget_mask]\n",
        "\n",
        "  # split train set into a forget and a retain set\n",
        "  forget_set = torch.utils.data.Subset(train_set, forget_idx)\n",
        "  retain_set = torch.utils.data.Subset(train_set, retain_idx)\n",
        "\n",
        "  # Generate forget and retain loaders\n",
        "  forget_loader = torch.utils.data.DataLoader(\n",
        "      forget_set, batch_size=256, shuffle=True, num_workers=2, generator=RNG\n",
        "  )\n",
        "  retain_loader = torch.utils.data.DataLoader(\n",
        "      retain_set, batch_size=256, shuffle=True, num_workers=2, generator=RNG\n",
        "  )\n",
        "  # Unlearn\n",
        "  model_ft_forget = unlearning(model_forget_ft, retain_loader, forget_loader, test_loader)\n",
        "\n",
        "  # Compare accuracy\n",
        "  print(f\"Retain set accuracy: {100.0 * accuracy(model_ft_forget, retain_loader):0.1f}%\")\n",
        "  print(f\"Test set accuracy: {100.0 * accuracy(model_ft_forget, test_loader):0.1f}%\")\n",
        "\n",
        "  Accuracy_retain.append(100.0 * accuracy(model_ft_forget, retain_loader))\n",
        "  Accuracy_forget.append(100.0 * accuracy(model_ft_forget, test_loader))\n",
        "\n",
        "  # MIA\n",
        "\n",
        "  # Compute forget losses for forget model\n",
        "  forget_losses_fr = compute_losses(model_ft_forget, forget_loader)\n",
        "  test_losses_fr = compute_losses(model_ft_forget, test_loader)\n",
        "\n",
        "  # Since we have more forget losses than test losses, sub-sample them, to have a class-balanced dataset.\n",
        "  test_losses_fr = test_losses_fr[randomize][: len(forget_losses)]\n",
        "\n",
        "  # make sure we have a balanced dataset for the MIA\n",
        "  samples_mia_fr = np.concatenate((test_losses_fr, forget_losses_fr)).reshape((-1, 1))\n",
        "  labels_mia_fr = [0] * len(test_losses_fr) + [1] * len(forget_losses_fr)\n",
        "\n",
        "  mia_scores_fr = simple_mia(samples_mia_fr, labels_mia_fr)\n",
        "  MIA_scores.append(mia_scores_fr)\n",
        "  print(\n",
        "      f\"The MIA has an accuracy of {mia_scores_fr.mean():.3f} on forgotten vs unseen images\"\n",
        "  )"
      ],
      "metadata": {
        "colab": {
          "base_uri": "https://localhost:8080/"
        },
        "id": "5GPBxmX9CEbD",
        "outputId": "5682a9ae-07b7-4c5f-dab7-0796fe0cdace"
      },
      "execution_count": 45,
      "outputs": [
        {
          "output_type": "stream",
          "name": "stdout",
          "text": [
            "-----------------------------------\n",
            "-----------------------------------\n",
            "Retain set accuracy: 99.9%\n",
            "Test set accuracy: 75.9%\n",
            "The MIA has an accuracy of 0.913 on forgotten vs unseen images\n",
            "-----------------------------------\n",
            "-----------------------------------\n",
            "Retain set accuracy: 99.9%\n",
            "Test set accuracy: 75.8%\n",
            "The MIA has an accuracy of 0.847 on forgotten vs unseen images\n",
            "-----------------------------------\n",
            "-----------------------------------\n",
            "Retain set accuracy: 99.8%\n",
            "Test set accuracy: 75.4%\n",
            "The MIA has an accuracy of 0.900 on forgotten vs unseen images\n",
            "-----------------------------------\n",
            "-----------------------------------\n",
            "Retain set accuracy: 99.9%\n",
            "Test set accuracy: 75.9%\n",
            "The MIA has an accuracy of 0.847 on forgotten vs unseen images\n",
            "-----------------------------------\n",
            "-----------------------------------\n",
            "Retain set accuracy: 99.8%\n",
            "Test set accuracy: 76.0%\n",
            "The MIA has an accuracy of 0.867 on forgotten vs unseen images\n",
            "-----------------------------------\n",
            "-----------------------------------\n",
            "Retain set accuracy: 99.9%\n",
            "Test set accuracy: 76.1%\n",
            "The MIA has an accuracy of 0.853 on forgotten vs unseen images\n",
            "-----------------------------------\n",
            "-----------------------------------\n",
            "Retain set accuracy: 99.7%\n",
            "Test set accuracy: 75.5%\n",
            "The MIA has an accuracy of 0.860 on forgotten vs unseen images\n",
            "-----------------------------------\n",
            "-----------------------------------\n",
            "Retain set accuracy: 99.9%\n",
            "Test set accuracy: 76.0%\n",
            "The MIA has an accuracy of 0.873 on forgotten vs unseen images\n",
            "-----------------------------------\n",
            "-----------------------------------\n",
            "Retain set accuracy: 99.9%\n",
            "Test set accuracy: 75.7%\n",
            "The MIA has an accuracy of 0.913 on forgotten vs unseen images\n",
            "-----------------------------------\n",
            "-----------------------------------\n",
            "Retain set accuracy: 99.9%\n",
            "Test set accuracy: 76.0%\n",
            "The MIA has an accuracy of 0.887 on forgotten vs unseen images\n"
          ]
        }
      ]
    },
    {
      "cell_type": "code",
      "source": [
        "\n",
        "MIA_scores = [m.mean() for m in MIA_scores]\n",
        "print(MIA_scores)\n",
        "print(Accuracy_retain)\n",
        "print(Accuracy_forget)"
      ],
      "metadata": {
        "colab": {
          "base_uri": "https://localhost:8080/"
        },
        "id": "boPaCDMTCH8B",
        "outputId": "20a4b956-1f5f-49f8-ae18-aa6dff8afd2f"
      },
      "execution_count": 46,
      "outputs": [
        {
          "output_type": "stream",
          "name": "stdout",
          "text": [
            "[0.9133333333333334, 0.8466666666666667, 0.9, 0.8466666666666667, 0.8666666666666668, 0.8533333333333333, 0.86, 0.8733333333333333, 0.9133333333333334, 0.8866666666666667]\n",
            "[99.88777555110221, 99.87174862730953, 99.75952385723733, 99.88577383218772, 99.77555560008817, 99.87174862730953, 99.7154365643975, 99.86973947895792, 99.86773547094188, 99.87975951903807]\n",
            "[75.97, 75.91, 75.77000000000001, 75.78, 75.92999999999999, 75.69, 75.37, 75.82, 75.55, 76.09]\n"
          ]
        }
      ]
    },
    {
      "cell_type": "code",
      "source": [
        "\n",
        "# Mean MIA\n",
        "mean_mia_1 = sum(MIA_scores) / len(MIA_scores)\n",
        "\n",
        "# Mean Accuracy Retain\n",
        "mean_accuracy_retain = sum(Accuracy_retain) / len(Accuracy_retain)\n",
        "\n",
        "# Mean Accuracy forget\n",
        "mean_accuracy_forget = sum(Accuracy_forget) / len(Accuracy_forget)\n",
        ""
      ],
      "metadata": {
        "id": "xcRX5PUuGh1Y"
      },
      "execution_count": 47,
      "outputs": []
    },
    {
      "cell_type": "code",
      "source": [
        "print(mean_mia_1)\n",
        "print(mean_accuracy_retain)\n",
        "print(mean_accuracy_forget)"
      ],
      "metadata": {
        "colab": {
          "base_uri": "https://localhost:8080/"
        },
        "id": "jw-wk1NuGjXv",
        "outputId": "d56545f2-1805-46f1-d5bd-0f838e78e596"
      },
      "execution_count": 48,
      "outputs": [
        {
          "output_type": "stream",
          "name": "stdout",
          "text": [
            "0.8760000000000001\n",
            "99.83847971285698\n",
            "75.788\n"
          ]
        }
      ]
    },
    {
      "cell_type": "code",
      "source": [
        "# Generalisation 2 %\n",
        "# Calculating score across 10 different classes\n",
        "\n",
        "# Show different classes\n",
        "classes = np.unique(np.array(train_set.targets))\n",
        "\n",
        "MIA_scores = []\n",
        "Accuracy_retain = []\n",
        "Accuracy_forget = []\n",
        "AD_score = []\n",
        "\n",
        "for class_num in classes:\n",
        "  # Define model from trained params\n",
        "\n",
        "  model_forget_ft = resnet18(weights=None, num_classes=10) # Load resnet18 from pytorch\n",
        "  model_forget_ft.load_state_dict(torch.load(\"model_train_params.pt\"))\n",
        "  model_forget_ft.to(DEVICE)\n",
        "\n",
        "  # Choose random forget indecies from some class\n",
        "  # Index of class\n",
        "  class_index = class_num # cars\n",
        "  class_set = np.where(np.array(train_set.targets) == 1)[0]\n",
        "\n",
        "  # Percantage of whole data ( from class )\n",
        "  amount = 0.05 # 2 %\n",
        "  amount_int = class_set.shape[0] * amount\n",
        "\n",
        "  # Get indeces\n",
        "  forget_idx = np.random.choice(class_set, int(amount_int))\n",
        "\n",
        "  # construct indices of retain from those of the forget set\n",
        "  forget_mask = np.zeros(len(train_set.targets), dtype=bool)\n",
        "  forget_mask[forget_idx] = True\n",
        "  retain_idx = np.arange(forget_mask.size)[~forget_mask]\n",
        "\n",
        "  # split train set into a forget and a retain set\n",
        "  forget_set = torch.utils.data.Subset(train_set, forget_idx)\n",
        "  retain_set = torch.utils.data.Subset(train_set, retain_idx)\n",
        "\n",
        "  # Generate forget and retain loaders\n",
        "  forget_loader = torch.utils.data.DataLoader(\n",
        "      forget_set, batch_size=256, shuffle=True, num_workers=2, generator=RNG\n",
        "  )\n",
        "  retain_loader = torch.utils.data.DataLoader(\n",
        "      retain_set, batch_size=256, shuffle=True, num_workers=2, generator=RNG\n",
        "  )\n",
        "  # Unlearn\n",
        "  model_ft_forget = unlearning(model_forget_ft, retain_loader, forget_loader, test_loader)\n",
        "\n",
        "  # Compare accuracy\n",
        "  print(f\"Retain set accuracy: {100.0 * accuracy(model_ft_forget, retain_loader):0.1f}%\")\n",
        "  print(f\"Test set accuracy: {100.0 * accuracy(model_ft_forget, test_loader):0.1f}%\")\n",
        "\n",
        "  Accuracy_retain.append(100.0 * accuracy(model_ft_forget, retain_loader))\n",
        "  Accuracy_forget.append(100.0 * accuracy(model_ft_forget, test_loader))\n",
        "\n",
        "  # MIA\n",
        "\n",
        "  # Compute forget losses for forget model\n",
        "  forget_losses_fr = compute_losses(model_ft_forget, forget_loader)\n",
        "  test_losses_fr = compute_losses(model_ft_forget, test_loader)\n",
        "\n",
        "  # Since we have more forget losses than test losses, sub-sample them, to have a class-balanced dataset.\n",
        "  test_losses_fr = test_losses_fr[randomize][: len(forget_losses)]\n",
        "\n",
        "  # make sure we have a balanced dataset for the MIA\n",
        "  samples_mia_fr = np.concatenate((test_losses_fr, forget_losses_fr)).reshape((-1, 1))\n",
        "  labels_mia_fr = [0] * len(test_losses_fr) + [1] * len(forget_losses_fr)\n",
        "\n",
        "  mia_scores_fr = simple_mia(samples_mia_fr, labels_mia_fr)\n",
        "  MIA_scores.append(mia_scores_fr)\n",
        "  print(\n",
        "      f\"The MIA has an accuracy of {mia_scores_fr.mean():.3f} on forgotten vs unseen images\"\n",
        "  )"
      ],
      "metadata": {
        "colab": {
          "base_uri": "https://localhost:8080/"
        },
        "id": "bScCAlSrGkoo",
        "outputId": "c422dba1-20d4-4ada-bff7-139446dc573b"
      },
      "execution_count": 49,
      "outputs": [
        {
          "output_type": "stream",
          "name": "stdout",
          "text": [
            "-----------------------------------\n",
            "-----------------------------------\n",
            "Retain set accuracy: 99.9%\n",
            "Test set accuracy: 75.9%\n",
            "The MIA has an accuracy of 0.880 on forgotten vs unseen images\n",
            "-----------------------------------\n",
            "-----------------------------------\n",
            "Retain set accuracy: 99.9%\n",
            "Test set accuracy: 76.2%\n",
            "The MIA has an accuracy of 0.887 on forgotten vs unseen images\n",
            "-----------------------------------\n",
            "-----------------------------------\n",
            "Retain set accuracy: 99.8%\n",
            "Test set accuracy: 76.4%\n",
            "The MIA has an accuracy of 0.890 on forgotten vs unseen images\n",
            "-----------------------------------\n",
            "-----------------------------------\n",
            "Retain set accuracy: 99.9%\n",
            "Test set accuracy: 76.0%\n",
            "The MIA has an accuracy of 0.873 on forgotten vs unseen images\n",
            "-----------------------------------\n",
            "-----------------------------------\n",
            "Retain set accuracy: 99.6%\n",
            "Test set accuracy: 75.7%\n",
            "The MIA has an accuracy of 0.927 on forgotten vs unseen images\n",
            "-----------------------------------\n",
            "-----------------------------------\n",
            "Retain set accuracy: 99.9%\n",
            "Test set accuracy: 75.8%\n",
            "The MIA has an accuracy of 0.910 on forgotten vs unseen images\n",
            "-----------------------------------\n",
            "-----------------------------------\n",
            "Retain set accuracy: 99.9%\n",
            "Test set accuracy: 75.7%\n",
            "The MIA has an accuracy of 0.863 on forgotten vs unseen images\n",
            "-----------------------------------\n",
            "-----------------------------------\n",
            "Retain set accuracy: 99.9%\n",
            "Test set accuracy: 75.9%\n",
            "The MIA has an accuracy of 0.873 on forgotten vs unseen images\n",
            "-----------------------------------\n",
            "-----------------------------------\n",
            "Retain set accuracy: 99.9%\n",
            "Test set accuracy: 75.9%\n",
            "The MIA has an accuracy of 0.873 on forgotten vs unseen images\n",
            "-----------------------------------\n",
            "-----------------------------------\n",
            "Retain set accuracy: 99.8%\n",
            "Test set accuracy: 75.7%\n",
            "The MIA has an accuracy of 0.913 on forgotten vs unseen images\n"
          ]
        }
      ]
    },
    {
      "cell_type": "code",
      "source": [
        "MIA_scores = [m.mean() for m in MIA_scores]\n",
        "print(MIA_scores)\n",
        "print(Accuracy_retain)\n",
        "print(Accuracy_forget)\n",
        ""
      ],
      "metadata": {
        "colab": {
          "base_uri": "https://localhost:8080/"
        },
        "id": "iw9PU1wxGn3o",
        "outputId": "6dbaa25f-af34-49ef-f819-2f7ee5623175"
      },
      "execution_count": 50,
      "outputs": [
        {
          "output_type": "stream",
          "name": "stdout",
          "text": [
            "[0.8800000000000001, 0.8866666666666665, 0.89, 0.8733333333333334, 0.9266666666666667, 0.9099999999999999, 0.8633333333333333, 0.8733333333333334, 0.8733333333333334, 0.9133333333333334]\n",
            "[99.8713671262612, 99.85730077379158, 99.83518581794063, 99.90352340562379, 99.6121304688599, 99.88945390227725, 99.89748949769854, 99.87338464939607, 99.86132325749658, 99.79097578132851]\n",
            "[75.98, 76.28, 76.36, 76.07000000000001, 75.64999999999999, 75.42999999999999, 75.78, 75.74, 75.92, 75.77000000000001]\n"
          ]
        }
      ]
    },
    {
      "cell_type": "code",
      "source": [
        "\n",
        "# Mean MIA\n",
        "mean_mia_1 = sum(MIA_scores) / len(MIA_scores)\n",
        "\n",
        "# Mean Accuracy Retain\n",
        "mean_accuracy_retain = sum(Accuracy_retain) / len(Accuracy_retain)\n",
        "\n",
        "# Mean Accuracy forget\n",
        "mean_accuracy_forget = sum(Accuracy_forget) / len(Accuracy_forget)\n",
        ""
      ],
      "metadata": {
        "id": "f25ktgvFNcYr"
      },
      "execution_count": 51,
      "outputs": []
    },
    {
      "cell_type": "code",
      "source": [
        "print(mean_mia_1)\n",
        "print(mean_accuracy_retain)\n",
        "print(mean_accuracy_forget)\n",
        ""
      ],
      "metadata": {
        "colab": {
          "base_uri": "https://localhost:8080/"
        },
        "id": "l7HTX9GJNd38",
        "outputId": "b48a6fb8-aa23-4d6b-e313-c6473a8410ae"
      },
      "execution_count": 52,
      "outputs": [
        {
          "output_type": "stream",
          "name": "stdout",
          "text": [
            "0.889\n",
            "99.8392134680674\n",
            "75.898\n"
          ]
        }
      ]
    },
    {
      "cell_type": "code",
      "source": [
        "# Generalisation 2 %\n",
        "# Calculating score across 10 different classes\n",
        "\n",
        "# Show different classes\n",
        "classes = np.unique(np.array(train_set.targets))\n",
        "\n",
        "MIA_scores = []\n",
        "Accuracy_retain = []\n",
        "Accuracy_forget = []\n",
        "AD_score = []\n",
        "\n",
        "for class_num in classes:\n",
        "  # Define model from trained params\n",
        "\n",
        "  model_forget_ft = resnet18(weights=None, num_classes=10) # Load resnet18 from pytorch\n",
        "  model_forget_ft.load_state_dict(torch.load(\"model_train_params.pt\"))\n",
        "  model_forget_ft.to(DEVICE)\n",
        "\n",
        "  # Choose random forget indecies from some class\n",
        "  # Index of class\n",
        "  class_index = class_num # cars\n",
        "  class_set = np.where(np.array(train_set.targets) == 1)[0]\n",
        "\n",
        "  # Percantage of whole data ( from class )\n",
        "  amount = 0.1 # 2 %\n",
        "  amount_int = class_set.shape[0] * amount\n",
        "\n",
        "  # Get indeces\n",
        "  forget_idx = np.random.choice(class_set, int(amount_int))\n",
        "\n",
        "  # construct indices of retain from those of the forget set\n",
        "  forget_mask = np.zeros(len(train_set.targets), dtype=bool)\n",
        "  forget_mask[forget_idx] = True\n",
        "  retain_idx = np.arange(forget_mask.size)[~forget_mask]\n",
        "\n",
        "  # split train set into a forget and a retain set\n",
        "  forget_set = torch.utils.data.Subset(train_set, forget_idx)\n",
        "  retain_set = torch.utils.data.Subset(train_set, retain_idx)\n",
        "\n",
        "  # Generate forget and retain loaders\n",
        "  forget_loader = torch.utils.data.DataLoader(\n",
        "      forget_set, batch_size=256, shuffle=True, num_workers=2, generator=RNG\n",
        "  )\n",
        "  retain_loader = torch.utils.data.DataLoader(\n",
        "      retain_set, batch_size=256, shuffle=True, num_workers=2, generator=RNG\n",
        "  )\n",
        "  # Unlearn\n",
        "  model_ft_forget = unlearning(model_forget_ft, retain_loader, forget_loader, test_loader)\n",
        "\n",
        "  # Compare accuracy\n",
        "  print(f\"Retain set accuracy: {100.0 * accuracy(model_ft_forget, retain_loader):0.1f}%\")\n",
        "  print(f\"Test set accuracy: {100.0 * accuracy(model_ft_forget, test_loader):0.1f}%\")\n",
        "\n",
        "  Accuracy_retain.append(100.0 * accuracy(model_ft_forget, retain_loader))\n",
        "  Accuracy_forget.append(100.0 * accuracy(model_ft_forget, test_loader))\n",
        "\n",
        "  # MIA\n",
        "\n",
        "  # Compute forget losses for forget model\n",
        "  forget_losses_fr = compute_losses(model_ft_forget, forget_loader)\n",
        "  test_losses_fr = compute_losses(model_ft_forget, test_loader)\n",
        "\n",
        "  # Since we have more forget losses than test losses, sub-sample them, to have a class-balanced dataset.\n",
        "  test_losses_fr = test_losses_fr[randomize][: len(forget_losses)]\n",
        "\n",
        "  # make sure we have a balanced dataset for the MIA\n",
        "  samples_mia_fr = np.concatenate((test_losses_fr, forget_losses_fr)).reshape((-1, 1))\n",
        "  labels_mia_fr = [0] * len(test_losses_fr) + [1] * len(forget_losses_fr)\n",
        "\n",
        "  mia_scores_fr = simple_mia(samples_mia_fr, labels_mia_fr)\n",
        "  MIA_scores.append(mia_scores_fr)\n",
        "  print(\n",
        "      f\"The MIA has an accuracy of {mia_scores_fr.mean():.3f} on forgotten vs unseen images\"\n",
        "  )"
      ],
      "metadata": {
        "colab": {
          "base_uri": "https://localhost:8080/"
        },
        "id": "djrP09ntNe8s",
        "outputId": "eeb6f0ab-89f6-4127-fffb-03f4f7730a10"
      },
      "execution_count": 53,
      "outputs": [
        {
          "output_type": "stream",
          "name": "stdout",
          "text": [
            "-----------------------------------\n",
            "-----------------------------------\n",
            "Retain set accuracy: 99.8%\n",
            "Test set accuracy: 75.8%\n",
            "The MIA has an accuracy of 0.909 on forgotten vs unseen images\n",
            "-----------------------------------\n",
            "-----------------------------------\n",
            "Retain set accuracy: 99.9%\n",
            "Test set accuracy: 76.1%\n",
            "The MIA has an accuracy of 0.909 on forgotten vs unseen images\n",
            "-----------------------------------\n",
            "-----------------------------------\n",
            "Retain set accuracy: 99.9%\n",
            "Test set accuracy: 76.0%\n",
            "The MIA has an accuracy of 0.909 on forgotten vs unseen images\n",
            "-----------------------------------\n",
            "-----------------------------------\n",
            "Retain set accuracy: 99.8%\n",
            "Test set accuracy: 75.9%\n",
            "The MIA has an accuracy of 0.909 on forgotten vs unseen images\n",
            "-----------------------------------\n",
            "-----------------------------------\n",
            "Retain set accuracy: 99.8%\n",
            "Test set accuracy: 75.9%\n",
            "The MIA has an accuracy of 0.909 on forgotten vs unseen images\n",
            "-----------------------------------\n",
            "-----------------------------------\n",
            "Retain set accuracy: 99.9%\n",
            "Test set accuracy: 76.1%\n",
            "The MIA has an accuracy of 0.909 on forgotten vs unseen images\n",
            "-----------------------------------\n",
            "-----------------------------------\n",
            "Retain set accuracy: 99.9%\n",
            "Test set accuracy: 76.1%\n",
            "The MIA has an accuracy of 0.909 on forgotten vs unseen images\n",
            "-----------------------------------\n",
            "-----------------------------------\n",
            "Retain set accuracy: 99.9%\n",
            "Test set accuracy: 75.9%\n",
            "The MIA has an accuracy of 0.909 on forgotten vs unseen images\n",
            "-----------------------------------\n",
            "-----------------------------------\n",
            "Retain set accuracy: 99.8%\n",
            "Test set accuracy: 75.8%\n",
            "The MIA has an accuracy of 0.909 on forgotten vs unseen images\n",
            "-----------------------------------\n",
            "-----------------------------------\n",
            "Retain set accuracy: 99.9%\n",
            "Test set accuracy: 75.7%\n",
            "The MIA has an accuracy of 0.909 on forgotten vs unseen images\n"
          ]
        }
      ]
    },
    {
      "cell_type": "code",
      "source": [
        "\n",
        "MIA_scores = [m.mean() for m in MIA_scores]\n",
        "print(MIA_scores)\n",
        "print(Accuracy_retain)\n",
        "print(Accuracy_forget)"
      ],
      "metadata": {
        "colab": {
          "base_uri": "https://localhost:8080/"
        },
        "id": "HBSMXpmJNiLu",
        "outputId": "e066aca2-b5f2-40b2-eca3-e13e49794f64"
      },
      "execution_count": 54,
      "outputs": [
        {
          "output_type": "stream",
          "name": "stdout",
          "text": [
            "[0.909090909090909, 0.909090909090909, 0.909090909090909, 0.909090909090909, 0.909090909090909, 0.909090909090909, 0.909090909090909, 0.909090909090909, 0.909090909090909, 0.909090909090909]\n",
            "[99.77186465315351, 99.89094213874583, 99.91721687160539, 99.85262052814342, 99.80412745850329, 99.85864011793453, 99.84252286446872, 99.86268729049715, 99.83442371375494, 99.89095315024232]\n",
            "[75.9, 76.22, 75.96000000000001, 75.83, 76.1, 75.97, 75.96000000000001, 75.62, 75.59, 75.99000000000001]\n"
          ]
        }
      ]
    },
    {
      "cell_type": "code",
      "source": [
        "\n",
        "# Mean MIA\n",
        "mean_mia_1 = sum(MIA_scores) / len(MIA_scores)\n",
        "\n",
        "# Mean Accuracy Retain\n",
        "mean_accuracy_retain = sum(Accuracy_retain) / len(Accuracy_retain)\n",
        "\n",
        "# Mean Accuracy forget\n",
        "mean_accuracy_forget = sum(Accuracy_forget) / len(Accuracy_forget)"
      ],
      "metadata": {
        "id": "Spd9ZTFHNkEv"
      },
      "execution_count": 55,
      "outputs": []
    },
    {
      "cell_type": "code",
      "source": [
        "\n",
        "print(mean_mia_1)\n",
        "print(mean_accuracy_retain)\n",
        "print(mean_accuracy_forget)"
      ],
      "metadata": {
        "colab": {
          "base_uri": "https://localhost:8080/"
        },
        "id": "1w_mQIjbNlbp",
        "outputId": "5de6f5e4-7f05-4663-ec3c-ebd060454097"
      },
      "execution_count": 56,
      "outputs": [
        {
          "output_type": "stream",
          "name": "stdout",
          "text": [
            "0.909090909090909\n",
            "99.85259987870491\n",
            "75.91400000000002\n"
          ]
        }
      ]
    },
    {
      "cell_type": "code",
      "source": [],
      "metadata": {
        "id": "Mmkqv03aNmnk"
      },
      "execution_count": null,
      "outputs": []
    }
  ]
}